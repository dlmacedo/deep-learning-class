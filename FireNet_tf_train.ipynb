{
  "nbformat": 4,
  "nbformat_minor": 0,
  "metadata": {
    "colab": {
      "name": "FireNet_tf train.ipynb",
      "provenance": [],
      "collapsed_sections": [],
      "include_colab_link": true
    },
    "kernelspec": {
      "name": "python3",
      "display_name": "Python 3"
    },
    "accelerator": "GPU"
  },
  "cells": [
    {
      "cell_type": "markdown",
      "metadata": {
        "id": "view-in-github",
        "colab_type": "text"
      },
      "source": [
        "<a href=\"https://colab.research.google.com/github/dlmacedo/deep-learning-class/blob/master/FireNet_tf_train.ipynb\" target=\"_parent\"><img src=\"https://colab.research.google.com/assets/colab-badge.svg\" alt=\"Open In Colab\"/></a>"
      ]
    },
    {
      "cell_type": "markdown",
      "metadata": {
        "id": "9xClKdTjdDMA",
        "colab_type": "text"
      },
      "source": [
        "#Codigo Base"
      ]
    },
    {
      "cell_type": "markdown",
      "metadata": {
        "id": "s3naftvamApX",
        "colab_type": "text"
      },
      "source": [
        "Clonar repositorio"
      ]
    },
    {
      "cell_type": "code",
      "metadata": {
        "id": "P2IwPyQHlzUW",
        "colab_type": "code",
        "outputId": "57c9e111-d7fd-4581-ec1e-36b58434316b",
        "colab": {
          "base_uri": "https://localhost:8080/",
          "height": 139
        }
      },
      "source": [
        "!git clone https://github.com/angel-ayala/kutralnet.git"
      ],
      "execution_count": 0,
      "outputs": [
        {
          "output_type": "stream",
          "text": [
            "Cloning into 'kutralnet'...\n",
            "remote: Enumerating objects: 6, done.\u001b[K\n",
            "remote: Counting objects:  16% (1/6)\u001b[K\rremote: Counting objects:  33% (2/6)\u001b[K\rremote: Counting objects:  50% (3/6)\u001b[K\rremote: Counting objects:  66% (4/6)\u001b[K\rremote: Counting objects:  83% (5/6)\u001b[K\rremote: Counting objects: 100% (6/6)\u001b[K\rremote: Counting objects: 100% (6/6), done.\u001b[K\n",
            "remote: Compressing objects: 100% (6/6), done.\u001b[K\n",
            "remote: Total 455 (delta 0), reused 2 (delta 0), pack-reused 449\u001b[K\n",
            "Receiving objects: 100% (455/455), 59.39 MiB | 38.69 MiB/s, done.\n",
            "Resolving deltas: 100% (225/225), done.\n"
          ],
          "name": "stdout"
        }
      ]
    },
    {
      "cell_type": "markdown",
      "metadata": {
        "id": "OrRoihzap8P4",
        "colab_type": "text"
      },
      "source": [
        "Dependencies install"
      ]
    },
    {
      "cell_type": "code",
      "metadata": {
        "id": "q9WCgcG7p-Y1",
        "colab_type": "code",
        "outputId": "f28dabf9-77e6-449a-feb1-44136a8e73d2",
        "colab": {
          "base_uri": "https://localhost:8080/",
          "height": 1000
        }
      },
      "source": [
        "!apt-get -qq install imagemagick # required for image transform\n",
        "!pip install git+https://github.com/angel-ayala/octconv.git # octave convolution library"
      ],
      "execution_count": 0,
      "outputs": [
        {
          "output_type": "stream",
          "text": [
            "Selecting previously unselected package fonts-droid-fallback.\n",
            "(Reading database ... 145674 files and directories currently installed.)\n",
            "Preparing to unpack .../00-fonts-droid-fallback_1%3a6.0.1r16-1.1_all.deb ...\n",
            "Unpacking fonts-droid-fallback (1:6.0.1r16-1.1) ...\n",
            "Selecting previously unselected package liblqr-1-0:amd64.\n",
            "Preparing to unpack .../01-liblqr-1-0_0.4.2-2.1_amd64.deb ...\n",
            "Unpacking liblqr-1-0:amd64 (0.4.2-2.1) ...\n",
            "Selecting previously unselected package imagemagick-6-common.\n",
            "Preparing to unpack .../02-imagemagick-6-common_8%3a6.9.7.4+dfsg-16ubuntu6.8_all.deb ...\n",
            "Unpacking imagemagick-6-common (8:6.9.7.4+dfsg-16ubuntu6.8) ...\n",
            "Selecting previously unselected package libmagickcore-6.q16-3:amd64.\n",
            "Preparing to unpack .../03-libmagickcore-6.q16-3_8%3a6.9.7.4+dfsg-16ubuntu6.8_amd64.deb ...\n",
            "Unpacking libmagickcore-6.q16-3:amd64 (8:6.9.7.4+dfsg-16ubuntu6.8) ...\n",
            "Selecting previously unselected package libmagickwand-6.q16-3:amd64.\n",
            "Preparing to unpack .../04-libmagickwand-6.q16-3_8%3a6.9.7.4+dfsg-16ubuntu6.8_amd64.deb ...\n",
            "Unpacking libmagickwand-6.q16-3:amd64 (8:6.9.7.4+dfsg-16ubuntu6.8) ...\n",
            "Selecting previously unselected package poppler-data.\n",
            "Preparing to unpack .../05-poppler-data_0.4.8-2_all.deb ...\n",
            "Unpacking poppler-data (0.4.8-2) ...\n",
            "Selecting previously unselected package fonts-noto-mono.\n",
            "Preparing to unpack .../06-fonts-noto-mono_20171026-2_all.deb ...\n",
            "Unpacking fonts-noto-mono (20171026-2) ...\n",
            "Selecting previously unselected package libcupsimage2:amd64.\n",
            "Preparing to unpack .../07-libcupsimage2_2.2.7-1ubuntu2.7_amd64.deb ...\n",
            "Unpacking libcupsimage2:amd64 (2.2.7-1ubuntu2.7) ...\n",
            "Selecting previously unselected package libijs-0.35:amd64.\n",
            "Preparing to unpack .../08-libijs-0.35_0.35-13_amd64.deb ...\n",
            "Unpacking libijs-0.35:amd64 (0.35-13) ...\n",
            "Selecting previously unselected package libjbig2dec0:amd64.\n",
            "Preparing to unpack .../09-libjbig2dec0_0.13-6_amd64.deb ...\n",
            "Unpacking libjbig2dec0:amd64 (0.13-6) ...\n",
            "Selecting previously unselected package libgs9-common.\n",
            "Preparing to unpack .../10-libgs9-common_9.26~dfsg+0-0ubuntu0.18.04.12_all.deb ...\n",
            "Unpacking libgs9-common (9.26~dfsg+0-0ubuntu0.18.04.12) ...\n",
            "Selecting previously unselected package libgs9:amd64.\n",
            "Preparing to unpack .../11-libgs9_9.26~dfsg+0-0ubuntu0.18.04.12_amd64.deb ...\n",
            "Unpacking libgs9:amd64 (9.26~dfsg+0-0ubuntu0.18.04.12) ...\n",
            "Selecting previously unselected package ghostscript.\n",
            "Preparing to unpack .../12-ghostscript_9.26~dfsg+0-0ubuntu0.18.04.12_amd64.deb ...\n",
            "Unpacking ghostscript (9.26~dfsg+0-0ubuntu0.18.04.12) ...\n",
            "Selecting previously unselected package gsfonts.\n",
            "Preparing to unpack .../13-gsfonts_1%3a8.11+urwcyr1.0.7~pre44-4.4_all.deb ...\n",
            "Unpacking gsfonts (1:8.11+urwcyr1.0.7~pre44-4.4) ...\n",
            "Selecting previously unselected package imagemagick-6.q16.\n",
            "Preparing to unpack .../14-imagemagick-6.q16_8%3a6.9.7.4+dfsg-16ubuntu6.8_amd64.deb ...\n",
            "Unpacking imagemagick-6.q16 (8:6.9.7.4+dfsg-16ubuntu6.8) ...\n",
            "Selecting previously unselected package imagemagick.\n",
            "Preparing to unpack .../15-imagemagick_8%3a6.9.7.4+dfsg-16ubuntu6.8_amd64.deb ...\n",
            "Unpacking imagemagick (8:6.9.7.4+dfsg-16ubuntu6.8) ...\n",
            "Selecting previously unselected package libcupsfilters1:amd64.\n",
            "Preparing to unpack .../16-libcupsfilters1_1.20.2-0ubuntu3.1_amd64.deb ...\n",
            "Unpacking libcupsfilters1:amd64 (1.20.2-0ubuntu3.1) ...\n",
            "Selecting previously unselected package libdjvulibre-text.\n",
            "Preparing to unpack .../17-libdjvulibre-text_3.5.27.1-8ubuntu0.1_all.deb ...\n",
            "Unpacking libdjvulibre-text (3.5.27.1-8ubuntu0.1) ...\n",
            "Selecting previously unselected package libdjvulibre21:amd64.\n",
            "Preparing to unpack .../18-libdjvulibre21_3.5.27.1-8ubuntu0.1_amd64.deb ...\n",
            "Unpacking libdjvulibre21:amd64 (3.5.27.1-8ubuntu0.1) ...\n",
            "Selecting previously unselected package libwmf0.2-7:amd64.\n",
            "Preparing to unpack .../19-libwmf0.2-7_0.2.8.4-12_amd64.deb ...\n",
            "Unpacking libwmf0.2-7:amd64 (0.2.8.4-12) ...\n",
            "Selecting previously unselected package libmagickcore-6.q16-3-extra:amd64.\n",
            "Preparing to unpack .../20-libmagickcore-6.q16-3-extra_8%3a6.9.7.4+dfsg-16ubuntu6.8_amd64.deb ...\n",
            "Unpacking libmagickcore-6.q16-3-extra:amd64 (8:6.9.7.4+dfsg-16ubuntu6.8) ...\n",
            "Selecting previously unselected package libnetpbm10.\n",
            "Preparing to unpack .../21-libnetpbm10_2%3a10.0-15.3build1_amd64.deb ...\n",
            "Unpacking libnetpbm10 (2:10.0-15.3build1) ...\n",
            "Selecting previously unselected package netpbm.\n",
            "Preparing to unpack .../22-netpbm_2%3a10.0-15.3build1_amd64.deb ...\n",
            "Unpacking netpbm (2:10.0-15.3build1) ...\n",
            "Setting up libgs9-common (9.26~dfsg+0-0ubuntu0.18.04.12) ...\n",
            "Setting up imagemagick-6-common (8:6.9.7.4+dfsg-16ubuntu6.8) ...\n",
            "Setting up fonts-droid-fallback (1:6.0.1r16-1.1) ...\n",
            "Setting up gsfonts (1:8.11+urwcyr1.0.7~pre44-4.4) ...\n",
            "Setting up poppler-data (0.4.8-2) ...\n",
            "Setting up libdjvulibre-text (3.5.27.1-8ubuntu0.1) ...\n",
            "Setting up libnetpbm10 (2:10.0-15.3build1) ...\n",
            "Setting up fonts-noto-mono (20171026-2) ...\n",
            "Setting up libcupsfilters1:amd64 (1.20.2-0ubuntu3.1) ...\n",
            "Setting up libcupsimage2:amd64 (2.2.7-1ubuntu2.7) ...\n",
            "Setting up liblqr-1-0:amd64 (0.4.2-2.1) ...\n",
            "Setting up libjbig2dec0:amd64 (0.13-6) ...\n",
            "Setting up libijs-0.35:amd64 (0.35-13) ...\n",
            "Setting up netpbm (2:10.0-15.3build1) ...\n",
            "Setting up libgs9:amd64 (9.26~dfsg+0-0ubuntu0.18.04.12) ...\n",
            "Setting up libwmf0.2-7:amd64 (0.2.8.4-12) ...\n",
            "Setting up libmagickcore-6.q16-3:amd64 (8:6.9.7.4+dfsg-16ubuntu6.8) ...\n",
            "Setting up libdjvulibre21:amd64 (3.5.27.1-8ubuntu0.1) ...\n",
            "Setting up ghostscript (9.26~dfsg+0-0ubuntu0.18.04.12) ...\n",
            "Setting up libmagickwand-6.q16-3:amd64 (8:6.9.7.4+dfsg-16ubuntu6.8) ...\n",
            "Setting up imagemagick-6.q16 (8:6.9.7.4+dfsg-16ubuntu6.8) ...\n",
            "update-alternatives: using /usr/bin/compare-im6.q16 to provide /usr/bin/compare (compare) in auto mode\n",
            "update-alternatives: using /usr/bin/compare-im6.q16 to provide /usr/bin/compare-im6 (compare-im6) in auto mode\n",
            "update-alternatives: using /usr/bin/animate-im6.q16 to provide /usr/bin/animate (animate) in auto mode\n",
            "update-alternatives: using /usr/bin/animate-im6.q16 to provide /usr/bin/animate-im6 (animate-im6) in auto mode\n",
            "update-alternatives: using /usr/bin/convert-im6.q16 to provide /usr/bin/convert (convert) in auto mode\n",
            "update-alternatives: using /usr/bin/convert-im6.q16 to provide /usr/bin/convert-im6 (convert-im6) in auto mode\n",
            "update-alternatives: using /usr/bin/composite-im6.q16 to provide /usr/bin/composite (composite) in auto mode\n",
            "update-alternatives: using /usr/bin/composite-im6.q16 to provide /usr/bin/composite-im6 (composite-im6) in auto mode\n",
            "update-alternatives: using /usr/bin/conjure-im6.q16 to provide /usr/bin/conjure (conjure) in auto mode\n",
            "update-alternatives: using /usr/bin/conjure-im6.q16 to provide /usr/bin/conjure-im6 (conjure-im6) in auto mode\n",
            "update-alternatives: using /usr/bin/import-im6.q16 to provide /usr/bin/import (import) in auto mode\n",
            "update-alternatives: using /usr/bin/import-im6.q16 to provide /usr/bin/import-im6 (import-im6) in auto mode\n",
            "update-alternatives: using /usr/bin/identify-im6.q16 to provide /usr/bin/identify (identify) in auto mode\n",
            "update-alternatives: using /usr/bin/identify-im6.q16 to provide /usr/bin/identify-im6 (identify-im6) in auto mode\n",
            "update-alternatives: using /usr/bin/stream-im6.q16 to provide /usr/bin/stream (stream) in auto mode\n",
            "update-alternatives: using /usr/bin/stream-im6.q16 to provide /usr/bin/stream-im6 (stream-im6) in auto mode\n",
            "update-alternatives: using /usr/bin/display-im6.q16 to provide /usr/bin/display (display) in auto mode\n",
            "update-alternatives: using /usr/bin/display-im6.q16 to provide /usr/bin/display-im6 (display-im6) in auto mode\n",
            "update-alternatives: using /usr/bin/montage-im6.q16 to provide /usr/bin/montage (montage) in auto mode\n",
            "update-alternatives: using /usr/bin/montage-im6.q16 to provide /usr/bin/montage-im6 (montage-im6) in auto mode\n",
            "update-alternatives: using /usr/bin/mogrify-im6.q16 to provide /usr/bin/mogrify (mogrify) in auto mode\n",
            "update-alternatives: using /usr/bin/mogrify-im6.q16 to provide /usr/bin/mogrify-im6 (mogrify-im6) in auto mode\n",
            "Setting up libmagickcore-6.q16-3-extra:amd64 (8:6.9.7.4+dfsg-16ubuntu6.8) ...\n",
            "Setting up imagemagick (8:6.9.7.4+dfsg-16ubuntu6.8) ...\n",
            "Processing triggers for hicolor-icon-theme (0.17-2) ...\n",
            "Processing triggers for fontconfig (2.12.6-0ubuntu2) ...\n",
            "Processing triggers for mime-support (3.60ubuntu1) ...\n",
            "Processing triggers for libc-bin (2.27-3ubuntu1) ...\n",
            "Processing triggers for man-db (2.8.3-2ubuntu0.1) ...\n",
            "Collecting git+https://github.com/angel-ayala/octconv.git\n",
            "  Cloning https://github.com/angel-ayala/octconv.git to /tmp/pip-req-build-w7iijqu7\n",
            "  Running command git clone -q https://github.com/angel-ayala/octconv.git /tmp/pip-req-build-w7iijqu7\n",
            "Requirement already satisfied: torch>=0.4.1 in /usr/local/lib/python3.6/dist-packages (from octconv==0.1.0) (1.3.1)\n",
            "Requirement already satisfied: numpy in /usr/local/lib/python3.6/dist-packages (from torch>=0.4.1->octconv==0.1.0) (1.17.5)\n",
            "Building wheels for collected packages: octconv\n",
            "  Building wheel for octconv (setup.py) ... \u001b[?25l\u001b[?25hdone\n",
            "  Created wheel for octconv: filename=octconv-0.1.0-cp36-none-any.whl size=3985 sha256=4af6e499eeb0c2a77fb3eaaef49b400dd072149dba110f800ad146671999f4e3\n",
            "  Stored in directory: /tmp/pip-ephem-wheel-cache-qn90gcim/wheels/ea/dd/cd/dc6bcacf5c8ea5ec4c17bf436cebd855a96b7236800bf48047\n",
            "Successfully built octconv\n",
            "Installing collected packages: octconv\n",
            "Successfully installed octconv-0.1.0\n"
          ],
          "name": "stdout"
        }
      ]
    },
    {
      "cell_type": "code",
      "metadata": {
        "id": "HEdvLiCznJ-J",
        "colab_type": "code",
        "colab": {}
      },
      "source": [
        "# work on repository folder\n",
        "import os\n",
        "os.chdir('/content/kutralnet')  #change dir"
      ],
      "execution_count": 0,
      "outputs": []
    },
    {
      "cell_type": "markdown",
      "metadata": {
        "id": "CbXy-8WznPmq",
        "colab_type": "text"
      },
      "source": [
        "Obtener datasets"
      ]
    },
    {
      "cell_type": "code",
      "metadata": {
        "id": "elK4pa_4nPSl",
        "colab_type": "code",
        "outputId": "012e7705-186c-49a0-89d0-856091cdeb64",
        "colab": {
          "base_uri": "https://localhost:8080/",
          "height": 1000
        }
      },
      "source": [
        "#firenet\n",
        "os.chdir('/content/kutralnet/datasets/FireNetDataset')  #change dir\n",
        "!./download.sh"
      ],
      "execution_count": 0,
      "outputs": [
        {
          "output_type": "stream",
          "text": [
            "Starting download of dataset...\n",
            "Cannot open cookies file ‘gdown.cookie.temp’: No such file or directory\n",
            "--2020-01-27 21:17:54--  https://docs.google.com/uc?id=165fUt_SiS50syL8QtdON50D_uyudcsrW&export=download\n",
            "Resolving docs.google.com (docs.google.com)... 172.217.212.113, 172.217.212.138, 172.217.212.102, ...\n",
            "Connecting to docs.google.com (docs.google.com)|172.217.212.113|:443... connected.\n",
            "HTTP request sent, awaiting response... 200 OK\n",
            "Length: unspecified [text/html]\n",
            "Saving to: ‘./training.zip’\n",
            "\n",
            "     0K                                     40.4M=0s\n",
            "\n",
            "2020-01-27 21:17:54 (40.4 MB/s) - ‘./training.zip’ saved [3255]\n",
            "\n",
            "--2020-01-27 21:17:54--  https://docs.google.com/uc?export=download&confirm=gcCV&id=165fUt_SiS50syL8QtdON50D_uyudcsrW\n",
            "Resolving docs.google.com (docs.google.com)... 172.217.214.113, 172.217.214.102, 172.217.214.100, ...\n",
            "Connecting to docs.google.com (docs.google.com)|172.217.214.113|:443... connected.\n",
            "HTTP request sent, awaiting response... 302 Moved Temporarily\n",
            "Location: https://doc-0s-c8-docs.googleusercontent.com/docs/securesc/ha0ro937gcuc7l7deffksulhg5h7mbp1/fpm5rmcosfhn40r64sn2dj3ch38k8a85/1580155200000/10352336804635915946/*/165fUt_SiS50syL8QtdON50D_uyudcsrW?e=download [following]\n",
            "Warning: wildcards not supported in HTTP.\n",
            "--2020-01-27 21:17:54--  https://doc-0s-c8-docs.googleusercontent.com/docs/securesc/ha0ro937gcuc7l7deffksulhg5h7mbp1/fpm5rmcosfhn40r64sn2dj3ch38k8a85/1580155200000/10352336804635915946/*/165fUt_SiS50syL8QtdON50D_uyudcsrW?e=download\n",
            "Resolving doc-0s-c8-docs.googleusercontent.com (doc-0s-c8-docs.googleusercontent.com)... 172.217.214.132, 2607:f8b0:4001:c05::84\n",
            "Connecting to doc-0s-c8-docs.googleusercontent.com (doc-0s-c8-docs.googleusercontent.com)|172.217.214.132|:443... connected.\n",
            "HTTP request sent, awaiting response... 200 OK\n",
            "Length: unspecified [application/x-zip-compressed]\n",
            "Saving to: ‘./training.zip’\n",
            "\n",
            "     0K ........ ........ ........ ........  135M\n",
            " 32768K ........ ........ ........ ........  170M\n",
            " 65536K ........ ........ ........ ........ 76.7M\n",
            " 98304K ........ ........ ........ ........  108M\n",
            "131072K ........ ........ ........ ........  319M\n",
            "163840K ........ ........ ........ ........  204M\n",
            "196608K ........ ........ ........ ........  136M\n",
            "229376K ........ ........ ........ ........  218M\n",
            "262144K ........ ........ ........ ........  182M\n",
            "294912K ........ ........ ........ ........ 40.2M\n",
            "327680K ........ ........ ........ ........  288M\n",
            "360448K ........ ........ ........ ........  109M\n",
            "393216K ........ ........ ........ ........  291M\n",
            "425984K ........ ........ ........ ........ 47.6M\n",
            "458752K ........ ........ ........ ........  186M\n",
            "491520K .                                    432M=4.1s\n",
            "\n",
            "2020-01-27 21:17:59 (117 MB/s) - ‘./training.zip’ saved [505020699]\n",
            "\n",
            "Unzipping\n",
            "Some images needs to be transformed!\n",
            "Training/Fire/fire1.jpg OK\n",
            "Training/NoFire/nofire630.jpg OK\n",
            "Training/NoFire/nofire631.jpg OK\n",
            "Training/NoFire/nofire650.jpg mogrify-im6.q16: delegate failed `'dwebp' -pam '%i' -o '%o'' @ error/delegate.c/InvokeDelegate/1919.\n",
            "mogrify-im6.q16: unable to open file `/tmp/magick-1831jQpSjd2CuiNr': No such file or directory @ error/constitute.c/ReadImage/544.\n",
            "OK\n",
            "Training/NoFire/nf1238.jpg mogrify-im6.q16: delegate failed `'dwebp' -pam '%i' -o '%o'' @ error/delegate.c/InvokeDelegate/1919.\n",
            "mogrify-im6.q16: unable to open file `/tmp/magick-1833Y2yZTX8gw0Fu': No such file or directory @ error/constitute.c/ReadImage/544.\n",
            "OK\n",
            "Done!\n",
            "Starting download of test dataset...\n",
            "Cannot open cookies file ‘gdown.cookie.temp’: No such file or directory\n",
            "--2020-01-27 21:18:03--  https://docs.google.com/uc?id=18nI3pLuB_JdnnYgt-u5284j7FGkNfOAa&export=download\n",
            "Resolving docs.google.com (docs.google.com)... 108.177.120.113, 108.177.120.101, 108.177.120.100, ...\n",
            "Connecting to docs.google.com (docs.google.com)|108.177.120.113|:443... connected.\n",
            "HTTP request sent, awaiting response... 200 OK\n",
            "Length: unspecified [text/html]\n",
            "Saving to: ‘./testing.zip’\n",
            "\n",
            "     0K                                     60.9M=0s\n",
            "\n",
            "2020-01-27 21:18:04 (60.9 MB/s) - ‘./testing.zip’ saved [3269]\n",
            "\n",
            "--2020-01-27 21:18:04--  https://docs.google.com/uc?export=download&confirm=35X6&id=18nI3pLuB_JdnnYgt-u5284j7FGkNfOAa\n",
            "Resolving docs.google.com (docs.google.com)... 172.217.212.113, 172.217.212.138, 172.217.212.102, ...\n",
            "Connecting to docs.google.com (docs.google.com)|172.217.212.113|:443... connected.\n",
            "HTTP request sent, awaiting response... 302 Moved Temporarily\n",
            "Location: https://doc-14-c8-docs.googleusercontent.com/docs/securesc/ha0ro937gcuc7l7deffksulhg5h7mbp1/cq24463d04og30khb3kst1ognhloa25d/1580155200000/10352336804635915946/*/18nI3pLuB_JdnnYgt-u5284j7FGkNfOAa?e=download [following]\n",
            "Warning: wildcards not supported in HTTP.\n",
            "--2020-01-27 21:18:04--  https://doc-14-c8-docs.googleusercontent.com/docs/securesc/ha0ro937gcuc7l7deffksulhg5h7mbp1/cq24463d04og30khb3kst1ognhloa25d/1580155200000/10352336804635915946/*/18nI3pLuB_JdnnYgt-u5284j7FGkNfOAa?e=download\n",
            "Resolving doc-14-c8-docs.googleusercontent.com (doc-14-c8-docs.googleusercontent.com)... 172.217.214.132, 2607:f8b0:4001:c05::84\n",
            "Connecting to doc-14-c8-docs.googleusercontent.com (doc-14-c8-docs.googleusercontent.com)|172.217.214.132|:443... connected.\n",
            "HTTP request sent, awaiting response... 200 OK\n",
            "Length: unspecified [application/x-zip-compressed]\n",
            "Saving to: ‘./testing.zip’\n",
            "\n",
            "     0K ........ ........ ........ ........ 84.3M\n",
            " 32768K ........ ........ ........ ........  162M\n",
            " 65536K ........ ........ ........ ........  137M\n",
            " 98304K ........ ........ ........ ........  169M\n",
            "131072K ........ ........ ........ ........ 74.4M\n",
            "163840K ........ ........ ........ ........ 80.3M\n",
            "196608K ........ ....                        388M=1.9s\n",
            "\n",
            "2020-01-27 21:18:06 (110 MB/s) - ‘./testing.zip’ saved [214458165]\n",
            "\n",
            "Unzipping\n",
            "Done!\n"
          ],
          "name": "stdout"
        }
      ]
    },
    {
      "cell_type": "code",
      "metadata": {
        "id": "JAntxa61pISc",
        "colab_type": "code",
        "outputId": "39983651-973d-415d-e334-37887eb0030c",
        "colab": {
          "base_uri": "https://localhost:8080/",
          "height": 1000
        }
      },
      "source": [
        "#fismo\n",
        "os.chdir('/content/kutralnet/datasets/FiSmoDataset')  #change dir\n",
        "!./download.sh"
      ],
      "execution_count": 0,
      "outputs": [
        {
          "output_type": "stream",
          "text": [
            "Starting download of dataset...\n",
            "Cannot open cookies file ‘gdown.cookie.temp’: No such file or directory\n",
            "--2020-01-27 21:18:10--  https://docs.google.com/uc?id=1Cq9KGYzmQ2IlFnkWyji-03DSJWZY36jS&export=download\n",
            "Resolving docs.google.com (docs.google.com)... 172.217.214.138, 172.217.214.102, 172.217.214.113, ...\n",
            "Connecting to docs.google.com (docs.google.com)|172.217.214.138|:443... connected.\n",
            "HTTP request sent, awaiting response... 200 OK\n",
            "Length: unspecified [text/html]\n",
            "Saving to: ‘./FiSmo-Images.zip’\n",
            "\n",
            "     0K                                     49.2M=0s\n",
            "\n",
            "2020-01-27 21:18:10 (49.2 MB/s) - ‘./FiSmo-Images.zip’ saved [3251]\n",
            "\n",
            "--2020-01-27 21:18:10--  https://docs.google.com/uc?export=download&confirm=I1gn&id=1Cq9KGYzmQ2IlFnkWyji-03DSJWZY36jS\n",
            "Resolving docs.google.com (docs.google.com)... 172.217.214.138, 172.217.214.102, 172.217.214.113, ...\n",
            "Connecting to docs.google.com (docs.google.com)|172.217.214.138|:443... connected.\n",
            "HTTP request sent, awaiting response... 302 Moved Temporarily\n",
            "Location: https://doc-0c-54-docs.googleusercontent.com/docs/securesc/ha0ro937gcuc7l7deffksulhg5h7mbp1/fe2edv38bum73jto1qtdbhtspto9kvfs/1580155200000/08172477337570299261/*/1Cq9KGYzmQ2IlFnkWyji-03DSJWZY36jS?e=download [following]\n",
            "Warning: wildcards not supported in HTTP.\n",
            "--2020-01-27 21:18:10--  https://doc-0c-54-docs.googleusercontent.com/docs/securesc/ha0ro937gcuc7l7deffksulhg5h7mbp1/fe2edv38bum73jto1qtdbhtspto9kvfs/1580155200000/08172477337570299261/*/1Cq9KGYzmQ2IlFnkWyji-03DSJWZY36jS?e=download\n",
            "Resolving doc-0c-54-docs.googleusercontent.com (doc-0c-54-docs.googleusercontent.com)... 172.217.214.132, 2607:f8b0:4001:c05::84\n",
            "Connecting to doc-0c-54-docs.googleusercontent.com (doc-0c-54-docs.googleusercontent.com)|172.217.214.132|:443... connected.\n",
            "HTTP request sent, awaiting response... 200 OK\n",
            "Length: unspecified [application/zip]\n",
            "Saving to: ‘./FiSmo-Images.zip’\n",
            "\n",
            "     0K ........ ........ ........ ........ 74.9M\n",
            " 32768K ........ ........ ........ ........ 87.9M\n",
            " 65536K ........ ........ ........ ........  189M\n",
            " 98304K ........ ........ ........ ........ 53.0M\n",
            "131072K ........ ........ ........ ........ 86.3M\n",
            "163840K ........ ........ ........ ........ 61.6M\n",
            "196608K ........ ........ ........ ........ 93.7M\n",
            "229376K ........ ........ ........ ........ 66.1M\n",
            "262144K ........ ........ ........ ........ 84.2M\n",
            "294912K ........ ........ ........ ........  113M\n",
            "327680K ........ ........ ........ ........ 95.5M\n",
            "360448K ........ ........ ........ ........  111M\n",
            "393216K ........ ........ ........ ........ 79.2M\n",
            "425984K ........ ........ ........ ........ 92.0M\n",
            "458752K ........ ........ ........ ........ 99.2M\n",
            "491520K ........ ........ ........ ........ 54.8M\n",
            "524288K ........ ........ ........ ........ 75.7M\n",
            "557056K ........ ........ ........ ........ 38.4M\n",
            "589824K ........ ........ ........ ........  109M\n",
            "622592K ........ ........ ........ ........  178M\n",
            "655360K ........ ........ ........ ........ 93.1M\n",
            "688128K ........ ........ ........ ........ 34.7M\n",
            "720896K ........ ........ ........ ........ 63.0M\n",
            "753664K ........ ........ ........ ........  136M\n",
            "786432K ........ ........ ........ ........ 86.5M\n",
            "819200K ........ ........ ........ ........ 35.7M\n",
            "851968K ........ ........ ........ ........ 35.5M\n",
            "884736K ........ ........ ........ ........ 28.9M\n",
            "917504K ........ ........ ........ ........ 12.8M\n",
            "950272K ........ ........ ........ ........ 32.2M\n",
            "983040K ........ ........ ........ ........ 41.0M\n",
            "1015808K ........ ........ ........ ........ 16.4M\n",
            "1048576K ........ ........ ........ ........ 10.4M\n",
            "1081344K ........ ........ ........ ........ 7.62M\n",
            "1114112K ........ ........ ........ ........ 10.3M\n",
            "1146880K ........ ........ ........ ........ 20.7M\n",
            "1179648K ........ ........ ........ ........ 31.4M\n",
            "1212416K ........ ........ ........ ........ 18.9M\n",
            "1245184K ........ ........ ........ ........ 19.3M\n",
            "1277952K ........ ........ ........ ........ 23.9M\n",
            "1310720K ........ ........ ........ ........ 23.4M\n",
            "1343488K ........ ........ ........ ........ 27.3M\n",
            "1376256K ........ ........ ........ ........ 67.3M\n",
            "1409024K ........ ........ ........ ........ 85.2M\n",
            "1441792K ........ ........ ........ ........  116M\n",
            "1474560K ........ ........ ........ ........  115M\n",
            "1507328K ........ ........ ........ ........  163M\n",
            "1540096K ........ ........ ........ ........ 91.8M\n",
            "1572864K ........ ........ ........ ........ 87.1M\n",
            "1605632K ........ ........ ........ ........  173M\n",
            "1638400K ........ ........ ........ ........  101M\n",
            "1671168K ........ ........ ........ ........ 41.4M\n",
            "1703936K ........ ........ ........ ........ 97.4M\n",
            "1736704K ........ ........ ........ ........ 65.3M\n",
            "1769472K ........ ........ ........ ........ 96.9M\n",
            "1802240K ........ ........ ........ ........ 83.1M\n",
            "1835008K ........ ........ ........ ........  122M\n",
            "1867776K ........ ........ ........ ........  196M\n",
            "1900544K ........ ........ ........ ........ 96.1M\n",
            "1933312K ........ ........ ........ ........  101M\n",
            "1966080K ........ ........ ........ ........ 98.3M\n",
            "1998848K ........ ........ ........ ........  188M\n",
            "2031616K ........ ........ ........ ........  168M\n",
            "2064384K ........ ........ ........ ........  177M\n",
            "2097152K ........ ........ ........ ........ 98.8M\n",
            "2129920K ........ ........ ........ ........ 16.7M\n",
            "2162688K ........ ........ ........ ........  400M\n",
            "2195456K ........ ........ ........ ........ 44.0M\n",
            "2228224K ........ ........ ........ ........ 84.4M\n",
            "2260992K ........ ........ ........ ........ 98.1M\n",
            "2293760K ........ ........ ........ ........  215M\n",
            "2326528K ........ ........ ........ ........  177M\n",
            "2359296K ........ ........ ........ ........  156M\n",
            "2392064K ........ ........ ........ ........  111M\n",
            "2424832K ........ ........ ........ ........  104M\n",
            "2457600K ........ ........ ........ ........  184M\n",
            "2490368K ........ ........ ........ ........ 25.6M\n",
            "2523136K ........ ........ ..                 248M=53s\n",
            "\n",
            "2020-01-27 21:19:04 (46.7 MB/s) - ‘./FiSmo-Images.zip’ saved [2603306346]\n",
            "\n",
            "Unzipping\n",
            "Done!"
          ],
          "name": "stdout"
        }
      ]
    },
    {
      "cell_type": "code",
      "metadata": {
        "id": "NvnvEwrKpDBE",
        "colab_type": "code",
        "colab": {}
      },
      "source": [
        "# back to home\n",
        "os.chdir('/content/kutralnet')  #change dir"
      ],
      "execution_count": 0,
      "outputs": []
    },
    {
      "cell_type": "code",
      "metadata": {
        "id": "OSpfRcUKusyd",
        "colab_type": "code",
        "colab": {}
      },
      "source": [
        "import matplotlib\n",
        "import matplotlib.pyplot as plt\n",
        "%matplotlib inline  "
      ],
      "execution_count": 0,
      "outputs": []
    },
    {
      "cell_type": "markdown",
      "metadata": {
        "id": "PTncyk7RaBOe",
        "colab_type": "text"
      },
      "source": [
        "# Training"
      ]
    },
    {
      "cell_type": "code",
      "metadata": {
        "id": "8rNjNyL9h5b0",
        "colab_type": "code",
        "outputId": "2cf588b4-0594-48e7-f171-a67fb096092e",
        "colab": {
          "base_uri": "https://localhost:8080/",
          "height": 98
        }
      },
      "source": [
        "#tensorflow\n",
        "import os\n",
        "import time\n",
        "import numpy as np\n",
        "# from matplotlib import pyplot as plt\n",
        "from keras.callbacks import ModelCheckpoint, CSVLogger\n",
        "from keras.models import load_model\n",
        "\n",
        "from sklearn.metrics import classification_report\n",
        "from models.firenet_tf import firenet_tf\n",
        "from utils.dataset import load_dataset\n",
        "from utils.dataset import load_firenet_test_dataset\n",
        "from utils.dataset import preprocess\n",
        "from utils.training import plot_history\n",
        "from contextlib import redirect_stdout\n",
        "\n",
        "# Set a seed value\n",
        "seed_value= 666\n",
        "# 1. Set `PYTHONHASHSEED` environment variable at a fixed value\n",
        "os.environ['PYTHONHASHSEED']=str(seed_value)\n",
        "# 2. Set `python` built-in pseudo-random generator at a fixed value\n",
        "import random\n",
        "random.seed(seed_value)\n",
        "# 3. Set `numpy` pseudo-random generator at a fixed value\n",
        "np.random.seed(seed_value)\n",
        "# 4. Set `tensorflow` pseudo-random generator at a fixed value\n",
        "import tensorflow as tf\n",
        "tf.set_random_seed(seed_value)\n",
        "# 5. For layers that introduce randomness like dropout, make sure to set seed values\n",
        "# model.add(Dropout(0.25, seed=seed_value))\n",
        "#6 Configure a new global `tensorflow` session\n",
        "from keras import backend as K\n",
        "session_conf = tf.ConfigProto(intra_op_parallelism_threads=1, inter_op_parallelism_threads=1)\n",
        "sess = tf.Session(graph=tf.get_default_graph(), config=session_conf)\n",
        "K.set_session(sess)\n",
        "%tensorflow_version 1.x \n",
        "\n",
        "must_train = True\n",
        "must_test = True\n",
        "base_model = 'firenet_tf'\n",
        "dataset = 'fismo_black' # int(time.time())\n",
        "ds_folder, get_dataset = load_dataset(dataset)\n",
        "save_path = os.path.join('.', 'models', 'saved', base_model, dataset)\n",
        "if not os.path.exists(save_path):\n",
        "    os.makedirs(save_path)"
      ],
      "execution_count": 0,
      "outputs": [
        {
          "output_type": "stream",
          "text": [
            "Using TensorFlow backend.\n"
          ],
          "name": "stderr"
        },
        {
          "output_type": "display_data",
          "data": {
            "text/html": [
              "<p style=\"color: red;\">\n",
              "The default version of TensorFlow in Colab will soon switch to TensorFlow 2.x.<br>\n",
              "We recommend you <a href=\"https://www.tensorflow.org/guide/migrate\" target=\"_blank\">upgrade</a> now \n",
              "or ensure your notebook will continue to use TensorFlow 1.x via the <code>%tensorflow_version 1.x</code> magic:\n",
              "<a href=\"https://colab.research.google.com/notebooks/tensorflow_version.ipynb\" target=\"_blank\">more info</a>.</p>\n"
            ],
            "text/plain": [
              "<IPython.core.display.HTML object>"
            ]
          },
          "metadata": {
            "tags": []
          }
        }
      ]
    },
    {
      "cell_type": "code",
      "metadata": {
        "id": "zyIbGUjd3_xe",
        "colab_type": "code",
        "colab": {}
      },
      "source": [
        "# flops measure\n",
        "\n",
        "def get_flops(model):\n",
        "    run_meta = tf.RunMetadata()\n",
        "    opts = tf.profiler.ProfileOptionBuilder.float_operation()\n",
        "\n",
        "    # We use the Keras session graph in the call to the profiler.\n",
        "    flops = tf.profiler.profile(graph=K.get_session().graph,\n",
        "                                run_meta=run_meta, cmd='op', options=opts)\n",
        "\n",
        "    return flops.total_float_ops  # Prints the \"flops\" of the model."
      ],
      "execution_count": 0,
      "outputs": []
    },
    {
      "cell_type": "code",
      "metadata": {
        "id": "bVEpR3NfC08A",
        "colab_type": "code",
        "outputId": "d2cc138f-3b70-46f7-a7db-4a684d026ca6",
        "colab": {
          "base_uri": "https://localhost:8080/",
          "height": 298
        }
      },
      "source": [
        "model = firenet_tf(input_shape=(64, 64, 3))\n",
        "model.compile(loss='sparse_categorical_crossentropy',\n",
        "              optimizer='adam',\n",
        "              metrics=['accuracy'])\n",
        "\n",
        "print(get_flops(model))"
      ],
      "execution_count": 0,
      "outputs": [
        {
          "output_type": "stream",
          "text": [
            "WARNING:tensorflow:From /usr/local/lib/python3.6/dist-packages/tensorflow_core/python/ops/resource_variable_ops.py:1630: calling BaseResourceVariable.__init__ (from tensorflow.python.ops.resource_variable_ops) with constraint is deprecated and will be removed in a future version.\n",
            "Instructions for updating:\n",
            "If using Keras pass *_constraint arguments to layers.\n",
            "WARNING:tensorflow:From /usr/local/lib/python3.6/dist-packages/keras/backend/tensorflow_backend.py:190: The name tf.get_default_session is deprecated. Please use tf.compat.v1.get_default_session instead.\n",
            "\n",
            "WARNING:tensorflow:From /usr/local/lib/python3.6/dist-packages/keras/backend/tensorflow_backend.py:207: The name tf.global_variables is deprecated. Please use tf.compat.v1.global_variables instead.\n",
            "\n",
            "WARNING:tensorflow:From /usr/local/lib/python3.6/dist-packages/keras/backend/tensorflow_backend.py:216: The name tf.is_variable_initialized is deprecated. Please use tf.compat.v1.is_variable_initialized instead.\n",
            "\n",
            "WARNING:tensorflow:From /usr/local/lib/python3.6/dist-packages/keras/backend/tensorflow_backend.py:223: The name tf.variables_initializer is deprecated. Please use tf.compat.v1.variables_initializer instead.\n",
            "\n",
            "WARNING:tensorflow:From /usr/local/lib/python3.6/dist-packages/tensorflow_core/python/profiler/internal/flops_registry.py:142: tensor_shape_from_node_def_name (from tensorflow.python.framework.graph_util_impl) is deprecated and will be removed in a future version.\n",
            "Instructions for updating:\n",
            "Use `tf.compat.v1.graph_util.tensor_shape_from_node_def_name`\n",
            "1292659\n"
          ],
          "name": "stdout"
        }
      ]
    },
    {
      "cell_type": "code",
      "metadata": {
        "id": "1J_6V8nhCE3V",
        "colab_type": "code",
        "outputId": "cbcc5b0f-f457-443d-a3c6-1db3039efe9f",
        "colab": {
          "base_uri": "https://localhost:8080/",
          "height": 34
        }
      },
      "source": [
        "model2 = firenet_tf(input_shape=(64, 64, 3))\n",
        "model2.compile(loss='sparse_categorical_crossentropy',\n",
        "              optimizer='adam',\n",
        "              metrics=['accuracy'])\n",
        "print(get_flops(model))"
      ],
      "execution_count": 0,
      "outputs": [
        {
          "output_type": "stream",
          "text": [
            "2585318\n"
          ],
          "name": "stdout"
        }
      ]
    },
    {
      "cell_type": "code",
      "metadata": {
        "id": "qntTDjcZCMp5",
        "colab_type": "code",
        "outputId": "ff7b0cff-c7b7-47bf-de5a-2d2b76b24f74",
        "colab": {
          "base_uri": "https://localhost:8080/",
          "height": 34
        }
      },
      "source": [
        "model3 = firenet_tf(input_shape=(64, 64, 3))\n",
        "model3.compile(loss='sparse_categorical_crossentropy',\n",
        "              optimizer='adam',\n",
        "              metrics=['accuracy'])\n",
        "print(get_flops(model))"
      ],
      "execution_count": 0,
      "outputs": [
        {
          "output_type": "stream",
          "text": [
            "3877977\n"
          ],
          "name": "stdout"
        }
      ]
    },
    {
      "cell_type": "code",
      "metadata": {
        "id": "epHGi8oAcbky",
        "colab_type": "code",
        "outputId": "5a9a38af-5c41-409c-a484-6538cc459d91",
        "colab": {
          "base_uri": "https://localhost:8080/",
          "height": 1000
        }
      },
      "source": [
        "### Training\n",
        "if must_train:\n",
        "    ds_path = os.path.join('.', 'datasets', ds_folder)\n",
        "    x_train, y_train, x_val, y_val = get_dataset(ds_path, resize=(64,64))\n",
        "\n",
        "    # Normalize data.\n",
        "    x_train = preprocess(x_train)\n",
        "    x_val = preprocess(x_val)\n",
        "\n",
        "    # summary\n",
        "    print('x_train shape:', x_train.shape)\n",
        "    print(x_train.shape[0], 'train samples')\n",
        "    print(y_train[y_train==1].shape[0], 'fire')\n",
        "    print(y_train[y_train==0].shape[0], 'no_fire')\n",
        "\n",
        "    print('x_val shape:', x_val.shape)\n",
        "    print(x_val.shape[0], 'test samples')\n",
        "    print(y_val[y_val==1].shape[0], 'fire')\n",
        "    print(y_val[y_val==0].shape[0], 'no_fire')\n",
        "\n",
        "    num_classes = 2\n",
        "    input_shape = x_train.shape[1:]\n",
        "    print('num_classes', num_classes, 'input_shape', input_shape)\n",
        "\n",
        "    # Convert class vectors to binary class matrices.\n",
        "    # y_train = utils.to_categorical(y_train, num_classes)\n",
        "    # y_val = utils.to_categorical(y_val, num_classes)\n",
        "\n",
        "    def prepare_callbacks(save_dir, suffix):\n",
        "        # Prepare model model saving directory.\n",
        "        model_name = 'model_%s.h5' % suffix\n",
        "        history_name = 'history.csv'\n",
        "\n",
        "        if not os.path.isdir(save_dir):\n",
        "            os.makedirs(save_dir)\n",
        "\n",
        "        filepath = os.path.join(save_dir, model_name)\n",
        "        historypath = os.path.join(save_dir, history_name)\n",
        "\n",
        "        # Prepare callbacks for saving and for learning rate adjustment.\n",
        "        checkpoint = ModelCheckpoint(filepath=filepath,\n",
        "                                     monitor='val_acc',\n",
        "                                     verbose=1,\n",
        "                                     save_best_only=True)\n",
        "\n",
        "        csv_logger = CSVLogger(filename=historypath,\n",
        "                                separator=',',\n",
        "                                append=False)\n",
        "\n",
        "        return [csv_logger, checkpoint]\n",
        "    # end prepare_callbacks\n",
        "\n",
        "    model = firenet_tf(input_shape=input_shape)\n",
        "    model.compile(loss='sparse_categorical_crossentropy',\n",
        "                  optimizer='adam',\n",
        "                  metrics=['accuracy'])\n",
        "    model.summary()\n",
        "    # exit()\n",
        "    #\n",
        "    print('Initiating training, models will be saved at {}'.format(save_path))\n",
        "    time_elapsed = 0\n",
        "    since = time.time()\n",
        "    with open(os.path.join(save_path, 'training.log'), 'a+') as f:\n",
        "        with redirect_stdout(f):\n",
        "            # since = time.time()\n",
        "            history = model.fit(x_train, y_train, batch_size=32, epochs=100,\n",
        "                    validation_data=(x_val, y_val), callbacks=prepare_callbacks(save_path, base_model))\n",
        "\n",
        "            best_idx = np.argmax(history.history['val_acc'])\n",
        "            best_acc = history.history['val_acc'][best_idx]\n",
        "\n",
        "            time_elapsed = time.time() - since\n",
        "            print('Training complete in {:.0f}m {:.0f}s'.format(\n",
        "                time_elapsed // 60, time_elapsed % 60))\n",
        "            print('Best accuracy on epoch {}: {:4f}'.format(best_idx, best_acc))\n",
        "\n",
        "    print('Training complete in {:.0f}m {:.0f}s'.format(\n",
        "        time_elapsed // 60, time_elapsed % 60))\n",
        "    print('Best accuracy on epoch {}: {:4f}'.format(best_idx, best_acc))\n",
        "\n",
        "    plot_history(history.history, folder_path=save_path)\n"
      ],
      "execution_count": 0,
      "outputs": [
        {
          "output_type": "stream",
          "text": [
            "Loading FiSmoA with (64, 64) dimension\n",
            "Loading images...\n",
            "Ok\n",
            "x_train shape: (5238, 64, 64, 3)\n",
            "5238 train samples\n",
            "1603 fire\n",
            "3635 no_fire\n",
            "x_val shape: (1310, 64, 64, 3)\n",
            "1310 test samples\n",
            "401 fire\n",
            "909 no_fire\n",
            "num_classes 2 input_shape (64, 64, 3)\n",
            "Model: \"sequential_2\"\n",
            "_________________________________________________________________\n",
            "Layer (type)                 Output Shape              Param #   \n",
            "=================================================================\n",
            "conv2d_6 (Conv2D)            (None, 62, 62, 16)        448       \n",
            "_________________________________________________________________\n",
            "average_pooling2d_6 (Average (None, 31, 31, 16)        0         \n",
            "_________________________________________________________________\n",
            "dropout_8 (Dropout)          (None, 31, 31, 16)        0         \n",
            "_________________________________________________________________\n",
            "conv2d_7 (Conv2D)            (None, 29, 29, 32)        4640      \n",
            "_________________________________________________________________\n",
            "average_pooling2d_7 (Average (None, 14, 14, 32)        0         \n",
            "_________________________________________________________________\n",
            "dropout_9 (Dropout)          (None, 14, 14, 32)        0         \n",
            "_________________________________________________________________\n",
            "conv2d_8 (Conv2D)            (None, 12, 12, 64)        18496     \n",
            "_________________________________________________________________\n",
            "average_pooling2d_8 (Average (None, 6, 6, 64)          0         \n",
            "_________________________________________________________________\n",
            "dropout_10 (Dropout)         (None, 6, 6, 64)          0         \n",
            "_________________________________________________________________\n",
            "flatten_2 (Flatten)          (None, 2304)              0         \n",
            "_________________________________________________________________\n",
            "dense_6 (Dense)              (None, 256)               590080    \n",
            "_________________________________________________________________\n",
            "dropout_11 (Dropout)         (None, 256)               0         \n",
            "_________________________________________________________________\n",
            "dense_7 (Dense)              (None, 128)               32896     \n",
            "_________________________________________________________________\n",
            "dense_8 (Dense)              (None, 2)                 258       \n",
            "=================================================================\n",
            "Total params: 646,818\n",
            "Trainable params: 646,818\n",
            "Non-trainable params: 0\n",
            "_________________________________________________________________\n",
            "Initiating training, models will be saved at ./models/saved/firenet_tf/fismo_black\n",
            "Training complete in 1m 33s\n",
            "Best accuracy on epoch 20: 0.856489\n"
          ],
          "name": "stdout"
        },
        {
          "output_type": "display_data",
          "data": {
            "image/png": "[encoded data removed]",
            "text/plain": [
              "<Figure size 432x288 with 1 Axes>"
            ]
          },
          "metadata": {
            "tags": []
          }
        },
        {
          "output_type": "display_data",
          "data": {
            "image/png": "[encoded data removed]",
            "text/plain": [
              "<Figure size 432x288 with 1 Axes>"
            ]
          },
          "metadata": {
            "tags": []
          }
        }
      ]
    },
    {
      "cell_type": "code",
      "metadata": {
        "id": "jx5G3jZ0cdcz",
        "colab_type": "code",
        "outputId": "929ac166-c586-4858-94c6-c30eb040062a",
        "colab": {
          "base_uri": "https://localhost:8080/",
          "height": 173
        }
      },
      "source": [
        "### Test\n",
        "if must_test:\n",
        "    firenet_path = os.path.join('.', 'datasets', 'FireNetDataset')\n",
        "    x_test, y_test = load_firenet_test_dataset(firenet_path, resize=(64,64))\n",
        "\n",
        "    # Normalize data.\n",
        "    x_test = preprocess(x_test)\n",
        "\n",
        "    # summary\n",
        "    print('x_test shape:', x_test.shape)\n",
        "    print(x_test.shape[0], 'test samples')\n",
        "    print(y_test[y_test==1].shape[0], 'fire')\n",
        "    print(y_test[y_test==0].shape[0], 'no_fire')\n",
        "\n",
        "    num_classes = 2\n",
        "    input_shape = x_test.shape[1:]\n",
        "    print('num_classes', num_classes, 'input_shape', input_shape)\n",
        "\n",
        "    model = firenet_tf(input_shape=input_shape)\n",
        "    model.compile(loss='sparse_categorical_crossentropy',\n",
        "                  optimizer='adam',\n",
        "                  metrics=['accuracy'])\n",
        "    model.load_weights(os.path.join(save_path, 'model_{}.h5'.format(base_model)))\n",
        "\n",
        "    score = model.evaluate(x_test, y_test, verbose=2)\n",
        "\n",
        "    #Confusion Matrix and Classification Report\n",
        "    y_pred = model.predict(x_test, verbose=0)\n",
        "    y_class = np.argmax(y_pred, axis=1)\n",
        "    # Y_test = np.argmax(y_test, axis=1)\n",
        "\n",
        "    target_names = ['No Fire', 'Fire']\n",
        "    class_report = classification_report(y_test, y_class,\n",
        "                            target_names=target_names)#, output_dict=True)\n",
        "\n",
        "    with open(os.path.join(save_path, 'test.log'), 'a+') as f:\n",
        "        with redirect_stdout(f):\n",
        "            print(score)\n",
        "            print('Classification Report')\n",
        "            print(class_report)\n"
      ],
      "execution_count": 0,
      "outputs": [
        {
          "output_type": "stream",
          "text": [
            "Loading FireNet-Test with (64, 64) dimension\n",
            "Loading images...\n",
            "Ok\n",
            "x_test shape: (871, 64, 64, 3)\n",
            "871 test samples\n",
            "593 fire\n",
            "278 no_fire\n",
            "num_classes 2 input_shape (64, 64, 3)\n",
            "871/871 - 0s - loss: 0.7402 - acc: 0.5993\n"
          ],
          "name": "stdout"
        }
      ]
    }
  ]
}