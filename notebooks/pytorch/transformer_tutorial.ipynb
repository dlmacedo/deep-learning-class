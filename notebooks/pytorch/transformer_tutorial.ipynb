{
  "nbformat": 4,
  "nbformat_minor": 0,
  "metadata": {
    "kernelspec": {
      "name": "python3",
      "display_name": "Python 3"
    },
    "language_info": {
      "codemirror_mode": {
        "name": "ipython",
        "version": 3
      },
      "file_extension": ".py",
      "mimetype": "text/x-python",
      "name": "python",
      "nbconvert_exporter": "python",
      "pygments_lexer": "ipython3",
      "version": "3.6.8"
    },
    "colab": {
      "name": "transformer_tutorial.ipynb",
      "provenance": [],
      "include_colab_link": true
    },
    "accelerator": "GPU"
  },
  "cells": [
    {
      "cell_type": "markdown",
      "metadata": {
        "id": "view-in-github",
        "colab_type": "text"
      },
      "source": [
        "<a href=\"https://colab.research.google.com/github/dlmacedo/deep-learning-class/blob/master/notebooks/pytorch/transformer_tutorial.ipynb\" target=\"_parent\"><img src=\"https://colab.research.google.com/assets/colab-badge.svg\" alt=\"Open In Colab\"/></a>"
      ]
    },
    {
      "cell_type": "code",
      "metadata": {
        "id": "hdQ6tU7FrNQN",
        "colab_type": "code",
        "colab": {}
      },
      "source": [
        "#!pip install torch==1.2.0\n",
        "%matplotlib inline"
      ],
      "execution_count": 1,
      "outputs": []
    },
    {
      "cell_type": "markdown",
      "metadata": {
        "id": "zlSm64WSrNQV",
        "colab_type": "text"
      },
      "source": [
        "nn.Transformer Tutorial\n",
        "=======================\n",
        "\n",
        "This is a tutorial to show how to implement [nn.Transformer](https://pytorch.org/docs/master/nn.html?highlight=nn%20transformer#torch.nn.Transformer) module.\n",
        "\n",
        "PyTorch 1.2 release includes a standard transformer module based on the\n",
        "paper [Attention is All You\n",
        "Need](https://arxiv.org/pdf/1706.03762.pdf). The transformer model\n",
        "has been proved to be superior in quality for many sequence-to-sequence\n",
        "problems while being more parallelizable. The ``nn.Transformer`` module\n",
        "relies entirely on an attention mechanism (another module recently\n",
        "implemented as [nn.MultiheadAttention](https://pytorch.org/docs/master/nn.html?highlight=multiheadattention#torch.nn.MultiheadAttention)) to draw global dependencies\n",
        "between input and output. The ``nn.Transformer`` module is now highly\n",
        "modularized such that a single component (like [nn.TransformerEncoder](https://pytorch.org/docs/master/nn.html?highlight=nn%20transformerencoder#torch.nn.TransformerEncoder) in this tutorial) can be easily adapted/composed.\n",
        "\n",
        "<img src=\"https://pytorch.org/tutorials/_images/transformer_architecture.jpg\" width=\"600\" alt=\"transformer\">\n"
      ]
    },
    {
      "cell_type": "markdown",
      "metadata": {
        "id": "53OJQ75QrNQW",
        "colab_type": "text"
      },
      "source": [
        "Define the model\n",
        "----------------\n",
        "\n",
        "\n"
      ]
    },
    {
      "cell_type": "markdown",
      "metadata": {
        "id": "QYWULC4-rNQY",
        "colab_type": "text"
      },
      "source": [
        "In this tutorial, we train ``nn.TransformerEncoder`` model on a\n",
        "language modeling task. The language modeling task is to assign a\n",
        "probability for the likelihood of a given word (or a sequence of words)\n",
        "to follow a sequence of words. A sequence of tokens are passed to the embedding\n",
        "layer first, followed by a positional encoding layer to account for the order\n",
        "of the word (see the next paragraph for more details). The\n",
        "``nn.TransformerEncoder`` consists of multiple layers of\n",
        "[nn.TransformerEncoderLayer](https://pytorch.org/docs/master/nn.html?highlight=transformerencoderlayer#torch.nn.TransformerEncoderLayer). Along with the input sequence, a square\n",
        "attention mask is required because the self-attention layers in\n",
        "``nn.TransformerEncoder`` are only allowed to attend the earlier positions in\n",
        "the sequence. For the language modeling task, any tokens on the future\n",
        "positions should be masked. To have the actual words, the output\n",
        "of ``nn.TransformerEncoder`` model is sent to the final Linear\n",
        "layer, which is followed by a log-Softmax function.\n",
        "\n",
        "\n"
      ]
    },
    {
      "cell_type": "code",
      "metadata": {
        "id": "tSK0VrDcrNQZ",
        "colab_type": "code",
        "colab": {}
      },
      "source": [
        "import math\n",
        "import torch\n",
        "import torch.nn as nn\n",
        "import torch.nn.functional as F\n",
        "\n",
        "class TransformerModel(nn.Module):\n",
        "\n",
        "    def __init__(self, ntoken, ninp, nhead, nhid, nlayers, dropout=0.5):\n",
        "        super(TransformerModel, self).__init__()\n",
        "        from torch.nn import TransformerEncoder, TransformerEncoderLayer\n",
        "        self.model_type = 'Transformer'\n",
        "        self.src_mask = None\n",
        "        self.pos_encoder = PositionalEncoding(ninp, dropout)\n",
        "        encoder_layers = TransformerEncoderLayer(ninp, nhead, nhid, dropout)\n",
        "        self.transformer_encoder = TransformerEncoder(encoder_layers, nlayers)\n",
        "        self.encoder = nn.Embedding(ntoken, ninp)\n",
        "        self.ninp = ninp\n",
        "        self.decoder = nn.Linear(ninp, ntoken)\n",
        "\n",
        "        self.init_weights()\n",
        "\n",
        "    def _generate_square_subsequent_mask(self, sz):\n",
        "        mask = (torch.triu(torch.ones(sz, sz)) == 1).transpose(0, 1)\n",
        "        mask = mask.float().masked_fill(mask == 0, float('-inf')).masked_fill(mask == 1, float(0.0))\n",
        "        return mask\n",
        "\n",
        "    def init_weights(self):\n",
        "        initrange = 0.1\n",
        "        self.encoder.weight.data.uniform_(-initrange, initrange)\n",
        "        self.decoder.bias.data.zero_()\n",
        "        self.decoder.weight.data.uniform_(-initrange, initrange)\n",
        "\n",
        "    def forward(self, src):\n",
        "        if self.src_mask is None or self.src_mask.size(0) != len(src):\n",
        "            device = src.device\n",
        "            mask = self._generate_square_subsequent_mask(len(src)).to(device)\n",
        "            self.src_mask = mask\n",
        "\n",
        "        src = self.encoder(src) * math.sqrt(self.ninp)\n",
        "        src = self.pos_encoder(src)\n",
        "        output = self.transformer_encoder(src, self.src_mask)\n",
        "        output = self.decoder(output)\n",
        "        return F.log_softmax(output, dim=-1)"
      ],
      "execution_count": 2,
      "outputs": []
    },
    {
      "cell_type": "markdown",
      "metadata": {
        "id": "Jwv9jjnYrNQe",
        "colab_type": "text"
      },
      "source": [
        "``PositionalEncoding`` module injects some information about the\n",
        "relative or absolute position of the tokens in the sequence. The\n",
        "positional encodings have the same dimension as the embeddings so that\n",
        "the two can be summed. Here, we use ``sine`` and ``cosine`` functions of\n",
        "different frequencies.\n",
        "\n",
        "\n"
      ]
    },
    {
      "cell_type": "code",
      "metadata": {
        "id": "mssGvt7CrNQf",
        "colab_type": "code",
        "colab": {}
      },
      "source": [
        "class PositionalEncoding(nn.Module):\n",
        "\n",
        "    def __init__(self, d_model, dropout=0.1, max_len=5000):\n",
        "        super(PositionalEncoding, self).__init__()\n",
        "        self.dropout = nn.Dropout(p=dropout)\n",
        "\n",
        "        pe = torch.zeros(max_len, d_model)\n",
        "        position = torch.arange(0, max_len, dtype=torch.float).unsqueeze(1)\n",
        "        div_term = torch.exp(torch.arange(0, d_model, 2).float() * (-math.log(10000.0) / d_model))\n",
        "        pe[:, 0::2] = torch.sin(position * div_term)\n",
        "        pe[:, 1::2] = torch.cos(position * div_term)\n",
        "        pe = pe.unsqueeze(0).transpose(0, 1)\n",
        "        self.register_buffer('pe', pe)\n",
        "\n",
        "    def forward(self, x):\n",
        "        x = x + self.pe[:x.size(0), :]\n",
        "        return self.dropout(x)"
      ],
      "execution_count": 3,
      "outputs": []
    },
    {
      "cell_type": "markdown",
      "metadata": {
        "id": "epotnZyTrNQk",
        "colab_type": "text"
      },
      "source": [
        "Load and batch data\n",
        "-------------------\n",
        "\n",
        "\n"
      ]
    },
    {
      "cell_type": "markdown",
      "metadata": {
        "id": "z6oewrmkrNQk",
        "colab_type": "text"
      },
      "source": [
        "The training process uses Wikitext-2 dataset from ``torchtext``. The\n",
        "vocab object is built based on the train dataset and is used to numericalize \n",
        "tokens into tensors. Starting from sequential data, the ``batchify()``\n",
        "function arranges the dataset into columns. For instance, with the\n",
        "alphabet as the sequence and a batch size of 4, we have the following\n",
        "arrangement:\n",
        "\n",
        "┌ A   G   M   S   ┐\n",
        "\n",
        "│ B   H   N   T   │\n",
        "\n",
        "│ C   I   O   U   |\n",
        "\n",
        "│ D   J   P   V   |\n",
        "\n",
        "│ E   K   Q   W   |\n",
        "\n",
        "└ F   L   R   X   ┘\n",
        "\n",
        "These columns are treated as independent by the model, which means that\n",
        "the dependence of ``G`` and ``F`` can not be learned, but allows more\n",
        "efficient batch processing.\n",
        "\n",
        "\n"
      ]
    },
    {
      "cell_type": "code",
      "metadata": {
        "id": "uqY078QRrNQl",
        "colab_type": "code",
        "colab": {
          "base_uri": "https://localhost:8080/",
          "height": 68
        },
        "outputId": "c8d030e7-fbaa-4821-eb9d-7976690759bc"
      },
      "source": [
        "import torchtext\n",
        "from torchtext.data.utils import get_tokenizer\n",
        "TEXT = torchtext.data.Field(tokenize=get_tokenizer(\"spacy\"),\n",
        "                            init_token='<sos>',\n",
        "                            eos_token='<eos>',\n",
        "                            lower=True)\n",
        "train_txt, val_txt, test_txt = torchtext.datasets.WikiText2.splits(TEXT)\n",
        "TEXT.build_vocab(train_txt)\n",
        "device = torch.device(\"cuda\" if torch.cuda.is_available() else \"cpu\")\n",
        "\n",
        "def batchify(data, bsz):\n",
        "    data = TEXT.numericalize([data.examples[0].text])\n",
        "    # Divide the dataset into bsz parts.\n",
        "    nbatch = data.size(0) // bsz\n",
        "    # Trim off any extra elements that wouldn't cleanly fit (remainders).\n",
        "    data = data.narrow(0, 0, nbatch * bsz)\n",
        "    # Evenly divide the data across the bsz batches.\n",
        "    data = data.view(bsz, -1).t().contiguous()\n",
        "    return data.to(device)\n",
        "\n",
        "batch_size = 20\n",
        "eval_batch_size = 10\n",
        "train_data = batchify(train_txt, batch_size)\n",
        "val_data = batchify(val_txt, eval_batch_size)\n",
        "test_data = batchify(test_txt, eval_batch_size)"
      ],
      "execution_count": 4,
      "outputs": [
        {
          "output_type": "stream",
          "text": [
            "downloading wikitext-2-v1.zip\n"
          ],
          "name": "stdout"
        },
        {
          "output_type": "stream",
          "text": [
            "wikitext-2-v1.zip: 100%|██████████| 4.48M/4.48M [00:00<00:00, 6.51MB/s]\n"
          ],
          "name": "stderr"
        },
        {
          "output_type": "stream",
          "text": [
            "extracting\n"
          ],
          "name": "stdout"
        }
      ]
    },
    {
      "cell_type": "markdown",
      "metadata": {
        "id": "sAaDZ5PKrNQo",
        "colab_type": "text"
      },
      "source": [
        "Functions to generate input and target sequence\n",
        "-----------------------------------------------\n"
      ]
    },
    {
      "cell_type": "markdown",
      "metadata": {
        "id": "b0bgKXMqrNQp",
        "colab_type": "text"
      },
      "source": [
        "``get_batch()`` function generates the input and target sequence for\n",
        "the transformer model. It subdivides the source data into chunks of\n",
        "length ``bptt``. For the language modeling task, the model needs the\n",
        "following words as ``Target``. For example, with a ``bptt`` value of 2,\n",
        "we’d get the following two Variables for ``i`` = 0:\n",
        "\n",
        "<img src=\"https://pytorch.org/tutorials/_images/transformer_input_target.png\" width=\"600\" alt=\"transformer\">\n",
        "\n",
        "It should be noted that the chunks are along dimension 0, consistent\n",
        "with the ``S`` dimension in the Transformer model. The batch dimension\n",
        "``N`` is along dimension 1.\n",
        "\n"
      ]
    },
    {
      "cell_type": "code",
      "metadata": {
        "id": "k5Kl8ymErNQq",
        "colab_type": "code",
        "colab": {}
      },
      "source": [
        "bptt = 35\n",
        "def get_batch(source, i):\n",
        "    seq_len = min(bptt, len(source) - 1 - i)\n",
        "    data = source[i:i+seq_len]\n",
        "    target = source[i+1:i+1+seq_len].view(-1)\n",
        "    return data, target"
      ],
      "execution_count": 5,
      "outputs": []
    },
    {
      "cell_type": "markdown",
      "metadata": {
        "id": "2fLcy02TrNQt",
        "colab_type": "text"
      },
      "source": [
        "Initiate an instance\n",
        "--------------------\n",
        "\n",
        "\n"
      ]
    },
    {
      "cell_type": "markdown",
      "metadata": {
        "id": "aqoaANxSrNQt",
        "colab_type": "text"
      },
      "source": [
        "The model is set up with the hyperparameter below. The vocab size is\n",
        "equal to the length of the vocab object.\n",
        "\n",
        "\n"
      ]
    },
    {
      "cell_type": "code",
      "metadata": {
        "id": "65weQTylrNQv",
        "colab_type": "code",
        "colab": {}
      },
      "source": [
        "ntokens = len(TEXT.vocab.stoi) # the size of vocabulary\n",
        "emsize = 200 # embedding dimension\n",
        "nhid = 200 # the dimension of the feedforward network model in nn.TransformerEncoder\n",
        "nlayers = 2 # the number of nn.TransformerEncoderLayer in nn.TransformerEncoder\n",
        "nhead = 2 # the number of heads in the multiheadattention models \n",
        "dropout = 0.2 # the dropout value\n",
        "model = TransformerModel(ntokens, emsize, nhead, nhid, nlayers, dropout).to(device)"
      ],
      "execution_count": 6,
      "outputs": []
    },
    {
      "cell_type": "markdown",
      "metadata": {
        "id": "IaTxBHYsrNQy",
        "colab_type": "text"
      },
      "source": [
        "Run the model\n",
        "-------------\n",
        "\n",
        "\n"
      ]
    },
    {
      "cell_type": "markdown",
      "metadata": {
        "id": "ZvzwvT-UrNQz",
        "colab_type": "text"
      },
      "source": [
        "[CrossEntropyLoss](https://pytorch.org/docs/master/nn.html?highlight=crossentropyloss#torch.nn.CrossEntropyLoss) is applied to track the loss and [SGD](https://pytorch.org/docs/master/optim.html?highlight=sgd#torch.optim.SGD) implements stochastic gradient descent method as the optimizer. The initial learning rate is set to 5.0. [StepLR](https://pytorch.org/docs/master/optim.html?highlight=steplr#torch.optim.lr_scheduler.StepLR) is\n",
        "applied to adjust the learn rate through epochs. During the\n",
        "training, we use\n",
        "[nn.utils.clip_grad_norm_](https://pytorch.org/docs/master/nn.html?highlight=nn%20utils%20clip_grad_norm#torch.nn.utils.clip_grad_norm_) function to scale all the gradient together to prevent exploding.\n"
      ]
    },
    {
      "cell_type": "code",
      "metadata": {
        "id": "xJh_NL0vrNQ1",
        "colab_type": "code",
        "colab": {}
      },
      "source": [
        "criterion = nn.CrossEntropyLoss()\n",
        "lr = 5.0 # learning rate\n",
        "optimizer = torch.optim.SGD(model.parameters(), lr=lr)\n",
        "scheduler = torch.optim.lr_scheduler.StepLR(optimizer, 1.0, gamma=0.95)\n",
        "\n",
        "import time\n",
        "def train():\n",
        "    model.train() # Turn on the train mode\n",
        "    total_loss = 0.\n",
        "    start_time = time.time()\n",
        "    ntokens = len(TEXT.vocab.stoi)\n",
        "    for batch, i in enumerate(range(0, train_data.size(0) - 1, bptt)):\n",
        "        data, targets = get_batch(train_data, i)\n",
        "        optimizer.zero_grad()\n",
        "        output = model(data)\n",
        "        loss = criterion(output.view(-1, ntokens), targets)\n",
        "        loss.backward()\n",
        "        torch.nn.utils.clip_grad_norm_(model.parameters(), 0.5)\n",
        "        optimizer.step()\n",
        "\n",
        "        total_loss += loss.item()\n",
        "        log_interval = 200\n",
        "        if batch % log_interval == 0 and batch > 0:\n",
        "            cur_loss = total_loss / log_interval\n",
        "            elapsed = time.time() - start_time\n",
        "            print('| epoch {:3d} | {:5d}/{:5d} batches | '\n",
        "                  'lr {:02.2f} | ms/batch {:5.2f} | '\n",
        "                  'loss {:5.2f} | ppl {:8.2f}'.format(\n",
        "                    #epoch, batch, len(train_data) // bptt, scheduler.get_lr()[0],\n",
        "                    epoch, batch, len(train_data) // bptt, scheduler.get_last_lr()[0],\n",
        "                    elapsed * 1000 / log_interval,\n",
        "                    cur_loss, math.exp(cur_loss)))\n",
        "            total_loss = 0\n",
        "            start_time = time.time()\n",
        "\n",
        "def evaluate(eval_model, data_source):\n",
        "    eval_model.eval() # Turn on the evaluation mode\n",
        "    total_loss = 0.\n",
        "    ntokens = len(TEXT.vocab.stoi)\n",
        "    with torch.no_grad():\n",
        "        for i in range(0, data_source.size(0) - 1, bptt):\n",
        "            data, targets = get_batch(data_source, i)\n",
        "            output = eval_model(data)\n",
        "            output_flat = output.view(-1, ntokens)\n",
        "            total_loss += len(data) * criterion(output_flat, targets).item()\n",
        "    return total_loss / (len(data_source) - 1)"
      ],
      "execution_count": 7,
      "outputs": []
    },
    {
      "cell_type": "markdown",
      "metadata": {
        "id": "2UFuHH2XrNQ3",
        "colab_type": "text"
      },
      "source": [
        "Loop over epochs. Save the model if the validation loss is the best \n",
        "we've seen so far. Adjust the learning rate after each epoch.\n",
        "\n"
      ]
    },
    {
      "cell_type": "code",
      "metadata": {
        "id": "RsiihLx3rNQ5",
        "colab_type": "code",
        "colab": {
          "base_uri": "https://localhost:8080/",
          "height": 935
        },
        "outputId": "1826a047-2922-4919-c671-1f83ad197dbf"
      },
      "source": [
        "best_val_loss = float(\"inf\")\n",
        "epochs = 3 # The number of epochs\n",
        "best_model = None\n",
        "\n",
        "for epoch in range(1, epochs + 1):\n",
        "    epoch_start_time = time.time()\n",
        "    train()\n",
        "    val_loss = evaluate(model, val_data)\n",
        "    print('-' * 89)\n",
        "    print('| end of epoch {:3d} | time: {:5.2f}s | valid loss {:5.2f} | '\n",
        "          'valid ppl {:8.2f}'.format(epoch, (time.time() - epoch_start_time),\n",
        "                                     val_loss, math.exp(val_loss)))\n",
        "    print('-' * 89)\n",
        "    \n",
        "    if val_loss < best_val_loss:\n",
        "        best_val_loss = val_loss\n",
        "        best_model = model\n",
        "\n",
        "    scheduler.step()"
      ],
      "execution_count": 8,
      "outputs": [
        {
          "output_type": "stream",
          "text": [
            "| epoch   1 |   200/ 3195 batches | lr 5.00 | ms/batch 14.36 | loss  7.30 | ppl  1482.92\n",
            "| epoch   1 |   400/ 3195 batches | lr 5.00 | ms/batch 12.79 | loss  6.27 | ppl   529.09\n",
            "| epoch   1 |   600/ 3195 batches | lr 5.00 | ms/batch 12.78 | loss  5.96 | ppl   388.67\n",
            "| epoch   1 |   800/ 3195 batches | lr 5.00 | ms/batch 12.80 | loss  5.80 | ppl   329.42\n",
            "| epoch   1 |  1000/ 3195 batches | lr 5.00 | ms/batch 12.80 | loss  5.81 | ppl   333.21\n",
            "| epoch   1 |  1200/ 3195 batches | lr 5.00 | ms/batch 12.86 | loss  5.75 | ppl   312.82\n",
            "| epoch   1 |  1400/ 3195 batches | lr 5.00 | ms/batch 12.80 | loss  5.71 | ppl   301.21\n",
            "| epoch   1 |  1600/ 3195 batches | lr 5.00 | ms/batch 12.87 | loss  5.60 | ppl   270.52\n",
            "| epoch   1 |  1800/ 3195 batches | lr 5.00 | ms/batch 12.83 | loss  5.63 | ppl   278.03\n",
            "| epoch   1 |  2000/ 3195 batches | lr 5.00 | ms/batch 12.87 | loss  5.63 | ppl   278.90\n",
            "| epoch   1 |  2200/ 3195 batches | lr 5.00 | ms/batch 12.81 | loss  5.57 | ppl   261.53\n",
            "| epoch   1 |  2400/ 3195 batches | lr 5.00 | ms/batch 12.84 | loss  5.46 | ppl   234.76\n",
            "| epoch   1 |  2600/ 3195 batches | lr 5.00 | ms/batch 12.74 | loss  5.53 | ppl   253.27\n",
            "| epoch   1 |  2800/ 3195 batches | lr 5.00 | ms/batch 12.79 | loss  5.52 | ppl   249.12\n",
            "| epoch   1 |  3000/ 3195 batches | lr 5.00 | ms/batch 12.85 | loss  5.42 | ppl   225.37\n",
            "-----------------------------------------------------------------------------------------\n",
            "| end of epoch   1 | time: 43.40s | valid loss  5.17 | valid ppl   175.61\n",
            "-----------------------------------------------------------------------------------------\n",
            "| epoch   2 |   200/ 3195 batches | lr 4.75 | ms/batch 12.80 | loss  5.37 | ppl   213.95\n",
            "| epoch   2 |   400/ 3195 batches | lr 4.75 | ms/batch 12.75 | loss  5.36 | ppl   212.47\n",
            "| epoch   2 |   600/ 3195 batches | lr 4.75 | ms/batch 12.72 | loss  5.26 | ppl   191.84\n",
            "| epoch   2 |   800/ 3195 batches | lr 4.75 | ms/batch 12.75 | loss  5.23 | ppl   186.56\n",
            "| epoch   2 |  1000/ 3195 batches | lr 4.75 | ms/batch 12.84 | loss  5.31 | ppl   201.73\n",
            "| epoch   2 |  1200/ 3195 batches | lr 4.75 | ms/batch 12.85 | loss  5.28 | ppl   195.62\n",
            "| epoch   2 |  1400/ 3195 batches | lr 4.75 | ms/batch 12.90 | loss  5.30 | ppl   199.72\n",
            "| epoch   2 |  1600/ 3195 batches | lr 4.75 | ms/batch 12.83 | loss  5.22 | ppl   185.20\n",
            "| epoch   2 |  1800/ 3195 batches | lr 4.75 | ms/batch 12.83 | loss  5.27 | ppl   194.15\n",
            "| epoch   2 |  2000/ 3195 batches | lr 4.75 | ms/batch 12.92 | loss  5.29 | ppl   199.28\n",
            "| epoch   2 |  2200/ 3195 batches | lr 4.75 | ms/batch 12.76 | loss  5.24 | ppl   189.58\n",
            "| epoch   2 |  2400/ 3195 batches | lr 4.75 | ms/batch 12.91 | loss  5.13 | ppl   169.76\n",
            "| epoch   2 |  2600/ 3195 batches | lr 4.75 | ms/batch 12.79 | loss  5.23 | ppl   186.32\n",
            "| epoch   2 |  2800/ 3195 batches | lr 4.75 | ms/batch 12.83 | loss  5.22 | ppl   184.22\n",
            "| epoch   2 |  3000/ 3195 batches | lr 4.75 | ms/batch 12.76 | loss  5.14 | ppl   170.68\n",
            "-----------------------------------------------------------------------------------------\n",
            "| end of epoch   2 | time: 43.09s | valid loss  5.05 | valid ppl   155.53\n",
            "-----------------------------------------------------------------------------------------\n",
            "| epoch   3 |   200/ 3195 batches | lr 4.51 | ms/batch 12.91 | loss  5.13 | ppl   169.32\n",
            "| epoch   3 |   400/ 3195 batches | lr 4.51 | ms/batch 12.82 | loss  5.15 | ppl   172.37\n",
            "| epoch   3 |   600/ 3195 batches | lr 4.51 | ms/batch 12.77 | loss  5.03 | ppl   153.65\n",
            "| epoch   3 |   800/ 3195 batches | lr 4.51 | ms/batch 12.82 | loss  5.02 | ppl   151.01\n",
            "| epoch   3 |  1000/ 3195 batches | lr 4.51 | ms/batch 12.74 | loss  5.10 | ppl   164.69\n",
            "| epoch   3 |  1200/ 3195 batches | lr 4.51 | ms/batch 12.73 | loss  5.08 | ppl   160.81\n",
            "| epoch   3 |  1400/ 3195 batches | lr 4.51 | ms/batch 12.80 | loss  5.12 | ppl   166.55\n",
            "| epoch   3 |  1600/ 3195 batches | lr 4.51 | ms/batch 12.81 | loss  5.04 | ppl   154.44\n",
            "| epoch   3 |  1800/ 3195 batches | lr 4.51 | ms/batch 12.78 | loss  5.08 | ppl   161.32\n",
            "| epoch   3 |  2000/ 3195 batches | lr 4.51 | ms/batch 12.83 | loss  5.12 | ppl   167.25\n",
            "| epoch   3 |  2200/ 3195 batches | lr 4.51 | ms/batch 12.81 | loss  5.07 | ppl   159.43\n",
            "| epoch   3 |  2400/ 3195 batches | lr 4.51 | ms/batch 12.87 | loss  4.96 | ppl   142.41\n",
            "| epoch   3 |  2600/ 3195 batches | lr 4.51 | ms/batch 12.81 | loss  5.06 | ppl   156.85\n",
            "| epoch   3 |  2800/ 3195 batches | lr 4.51 | ms/batch 12.73 | loss  5.05 | ppl   155.86\n",
            "| epoch   3 |  3000/ 3195 batches | lr 4.51 | ms/batch 12.75 | loss  4.98 | ppl   145.14\n",
            "-----------------------------------------------------------------------------------------\n",
            "| end of epoch   3 | time: 43.02s | valid loss  4.95 | valid ppl   140.47\n",
            "-----------------------------------------------------------------------------------------\n"
          ],
          "name": "stdout"
        }
      ]
    },
    {
      "cell_type": "markdown",
      "metadata": {
        "id": "9HJTXbztrNQ7",
        "colab_type": "text"
      },
      "source": [
        "Evaluate the model with the test dataset\n",
        "-------------------------------------\n",
        "\n",
        "Apply the best model to check the result with the test dataset.\n",
        "\n"
      ]
    },
    {
      "cell_type": "code",
      "metadata": {
        "id": "w7BML-iArNQ8",
        "colab_type": "code",
        "colab": {
          "base_uri": "https://localhost:8080/",
          "height": 68
        },
        "outputId": "8eef6319-ff20-4033-a90a-4194f2b69d6d"
      },
      "source": [
        "test_loss = evaluate(best_model, test_data)\n",
        "print('=' * 89)\n",
        "print('| End of training | test loss {:5.2f} | test ppl {:8.2f}'.format(\n",
        "    test_loss, math.exp(test_loss)))\n",
        "print('=' * 89)"
      ],
      "execution_count": 9,
      "outputs": [
        {
          "output_type": "stream",
          "text": [
            "=========================================================================================\n",
            "| End of training | test loss  4.79 | test ppl   120.51\n",
            "=========================================================================================\n"
          ],
          "name": "stdout"
        }
      ]
    }
  ]
}