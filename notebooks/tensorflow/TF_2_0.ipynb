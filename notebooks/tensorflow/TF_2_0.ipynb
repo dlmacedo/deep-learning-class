{
  "nbformat": 4,
  "nbformat_minor": 0,
  "metadata": {
    "colab": {
      "name": "TF_2.0.ipynb",
      "provenance": [],
      "collapsed_sections": [],
      "include_colab_link": true
    },
    "kernelspec": {
      "name": "python3",
      "display_name": "Python 3"
    },
    "accelerator": "GPU"
  },
  "cells": [
    {
      "cell_type": "markdown",
      "metadata": {
        "id": "view-in-github",
        "colab_type": "text"
      },
      "source": [
        "<a href=\"https://colab.research.google.com/github/dlmacedo/deep-learning-class/blob/master/notebooks/tensorflow/TF_2_0.ipynb\" target=\"_parent\"><img src=\"https://colab.research.google.com/assets/colab-badge.svg\" alt=\"Open In Colab\"/></a>"
      ]
    },
    {
      "cell_type": "markdown",
      "metadata": {
        "id": "q5EbZRSRU7X-",
        "colab_type": "text"
      },
      "source": [
        "The new version of TensorFlow is changing the way to code machine learning models to be more pythonic. Debugging and creating models were complicated with sessions and graphs but not anymore. Eager Execution allows evaluating tensors on the fly without having to run a session to execute code from end to end. Now, TensorFlow 2.0 introduces eager execution by default.  "
      ]
    },
    {
      "cell_type": "markdown",
      "metadata": {
        "id": "SQLWlBkaUJwJ",
        "colab_type": "text"
      },
      "source": [
        "#Install TF-2.0\n",
        "\n",
        "TF 2.0 is integrated with colab yet so you DO NOT need to pip install it first "
      ]
    },
    {
      "cell_type": "code",
      "metadata": {
        "id": "qLOdEd07UI-x",
        "colab_type": "code",
        "colab": {}
      },
      "source": [
        "#!pip install tensorflow-gpu==2.0.0"
      ],
      "execution_count": 1,
      "outputs": []
    },
    {
      "cell_type": "markdown",
      "metadata": {
        "id": "CiwZoGf85dnU",
        "colab_type": "text"
      },
      "source": [
        "# Import tensorflow"
      ]
    },
    {
      "cell_type": "code",
      "metadata": {
        "id": "jlnQG8hC-uCg",
        "colab_type": "code",
        "colab": {}
      },
      "source": [
        "import tensorflow as tf"
      ],
      "execution_count": 2,
      "outputs": []
    },
    {
      "cell_type": "markdown",
      "metadata": {
        "id": "8Fq5Gb135Z5f",
        "colab_type": "text"
      },
      "source": [
        "Check the version of tf"
      ]
    },
    {
      "cell_type": "code",
      "metadata": {
        "id": "MVq8s_1cUVNA",
        "colab_type": "code",
        "colab": {
          "base_uri": "https://localhost:8080/",
          "height": 35
        },
        "outputId": "23341d9a-d339-496c-e80b-4ac4e28ff1de"
      },
      "source": [
        "tf.__version__"
      ],
      "execution_count": 3,
      "outputs": [
        {
          "output_type": "execute_result",
          "data": {
            "application/vnd.google.colaboratory.intrinsic+json": {
              "type": "string"
            },
            "text/plain": [
              "'2.3.0'"
            ]
          },
          "metadata": {
            "tags": []
          },
          "execution_count": 3
        }
      ]
    },
    {
      "cell_type": "markdown",
      "metadata": {
        "id": "UC6X5Y844_E-",
        "colab_type": "text"
      },
      "source": [
        "# Executing Ops Eagerly \n",
        "By perfoming operations you can see the output directly without creating a session. "
      ]
    },
    {
      "cell_type": "code",
      "metadata": {
        "id": "DmwZJKlA_B15",
        "colab_type": "code",
        "colab": {
          "base_uri": "https://localhost:8080/",
          "height": 34
        },
        "outputId": "66b5befb-59dd-4d8e-a4fe-63c3126b8da8"
      },
      "source": [
        "x = [[2.]]\n",
        "m = tf.square(x)\n",
        "print(m)"
      ],
      "execution_count": 4,
      "outputs": [
        {
          "output_type": "stream",
          "text": [
            "tf.Tensor([[4.]], shape=(1, 1), dtype=float32)\n"
          ],
          "name": "stdout"
        }
      ]
    },
    {
      "cell_type": "markdown",
      "metadata": {
        "id": "WGLoIPrQ6ZYT",
        "colab_type": "text"
      },
      "source": [
        "You can call `.numpy` to retrieve the results of the tensor as a numpy array"
      ]
    },
    {
      "cell_type": "code",
      "metadata": {
        "id": "-FGFGbZq6fRo",
        "colab_type": "code",
        "colab": {
          "base_uri": "https://localhost:8080/",
          "height": 34
        },
        "outputId": "dc767774-878c-4c29-92f5-11f8c4cc4859"
      },
      "source": [
        "m.numpy()"
      ],
      "execution_count": 5,
      "outputs": [
        {
          "output_type": "execute_result",
          "data": {
            "text/plain": [
              "array([[4.]], dtype=float32)"
            ]
          },
          "metadata": {
            "tags": []
          },
          "execution_count": 5
        }
      ]
    },
    {
      "cell_type": "markdown",
      "metadata": {
        "id": "l9Xlu7in6m22",
        "colab_type": "text"
      },
      "source": [
        "You can also compute an operation including two tensors "
      ]
    },
    {
      "cell_type": "code",
      "metadata": {
        "id": "d4tKJJ90_QMM",
        "colab_type": "code",
        "colab": {
          "base_uri": "https://localhost:8080/",
          "height": 68
        },
        "outputId": "48596ad5-59b9-47f7-b40d-693a7eb97cd9"
      },
      "source": [
        "a = tf.constant([[1, 2],\n",
        "                 [3, 4]])\n",
        "\n",
        "b = tf.constant([[2, 1],\n",
        "                 [3, 4]])\n",
        "\n",
        "ab = tf.matmul(a, b)\n",
        "\n",
        "print('a * b = \\n', ab.numpy())"
      ],
      "execution_count": 6,
      "outputs": [
        {
          "output_type": "stream",
          "text": [
            "a * b = \n",
            " [[ 8  9]\n",
            " [18 19]]\n"
          ],
          "name": "stdout"
        }
      ]
    },
    {
      "cell_type": "markdown",
      "metadata": {
        "id": "V5qlVJygETcb",
        "colab_type": "text"
      },
      "source": [
        "# Constants and Variables \n",
        "\n",
        "\n",
        "*   `tf.constant`, creates a constant tensor populated with the values as argument. The values are immutable. \n",
        "*   `tf.Variable `, this method encapsultes a mutable tensor that can be changed later using assign \n"
      ]
    },
    {
      "cell_type": "markdown",
      "metadata": {
        "id": "ayMVXFj1FZxz",
        "colab_type": "text"
      },
      "source": [
        "Creating a constant tensor "
      ]
    },
    {
      "cell_type": "code",
      "metadata": {
        "id": "g2KFQKSLFNlS",
        "colab_type": "code",
        "colab": {
          "base_uri": "https://localhost:8080/",
          "height": 34
        },
        "outputId": "7531c3de-d6b4-4efc-cc68-9c196389ab9f"
      },
      "source": [
        "a = tf.constant([[2,3]])\n",
        "print(a)"
      ],
      "execution_count": 7,
      "outputs": [
        {
          "output_type": "stream",
          "text": [
            "tf.Tensor([[2 3]], shape=(1, 2), dtype=int32)\n"
          ],
          "name": "stdout"
        }
      ]
    },
    {
      "cell_type": "markdown",
      "metadata": {
        "id": "mn8uX4t5FtHp",
        "colab_type": "text"
      },
      "source": [
        "A constant tensor is immutable so you cannot assign a new value to it."
      ]
    },
    {
      "cell_type": "code",
      "metadata": {
        "id": "xrJqeZfgHU-j",
        "colab_type": "code",
        "colab": {
          "base_uri": "https://localhost:8080/",
          "height": 34
        },
        "outputId": "6e387fea-3428-45c4-cf6f-b42535da1fb9"
      },
      "source": [
        "try:\n",
        "  a.assign(2.)\n",
        "except:\n",
        "  print('Exception raised ')"
      ],
      "execution_count": 8,
      "outputs": [
        {
          "output_type": "stream",
          "text": [
            "Exception raised \n"
          ],
          "name": "stdout"
        }
      ]
    },
    {
      "cell_type": "markdown",
      "metadata": {
        "id": "lrgbhCu8H3rm",
        "colab_type": "text"
      },
      "source": [
        "On the other hand variables are mutable and can be assigned a new value"
      ]
    },
    {
      "cell_type": "code",
      "metadata": {
        "id": "WSMIotOQFw2F",
        "colab_type": "code",
        "colab": {
          "base_uri": "https://localhost:8080/",
          "height": 51
        },
        "outputId": "b134befb-58c7-4bc2-efb1-326ab94aca82"
      },
      "source": [
        "v = tf.Variable(5.)\n",
        "\n",
        "print('Old value for v =', v.numpy())\n",
        "v.assign(2.)\n",
        "print('New value for v =', v.numpy())"
      ],
      "execution_count": 9,
      "outputs": [
        {
          "output_type": "stream",
          "text": [
            "Old value for v = 5.0\n",
            "New value for v = 2.0\n"
          ],
          "name": "stdout"
        }
      ]
    },
    {
      "cell_type": "markdown",
      "metadata": {
        "id": "se0MFrEwMXWo",
        "colab_type": "text"
      },
      "source": [
        "You can also in-place increment/decrement the value of a tensor "
      ]
    },
    {
      "cell_type": "code",
      "metadata": {
        "id": "d9M50PpdMzEn",
        "colab_type": "code",
        "colab": {
          "base_uri": "https://localhost:8080/",
          "height": 68
        },
        "outputId": "0f74cefd-58ed-4443-be05-5c226b65af9d"
      },
      "source": [
        "v.assign(2.)\n",
        "print('value     : ', v.numpy())\n",
        "print('increment : ', v.assign_add(1.).numpy())\n",
        "print('decrement : ', v.assign_sub(1.).numpy())"
      ],
      "execution_count": 10,
      "outputs": [
        {
          "output_type": "stream",
          "text": [
            "value     :  2.0\n",
            "increment :  3.0\n",
            "decrement :  2.0\n"
          ],
          "name": "stdout"
        }
      ]
    },
    {
      "cell_type": "markdown",
      "metadata": {
        "id": "FtGAYUUWI8bX",
        "colab_type": "text"
      },
      "source": [
        "You can return many information from a tensor variable, like the name, type , shape and what device it executes on. "
      ]
    },
    {
      "cell_type": "code",
      "metadata": {
        "id": "2wQMtx3QJBSg",
        "colab_type": "code",
        "colab": {
          "base_uri": "https://localhost:8080/",
          "height": 85
        },
        "outputId": "189ff827-5bdb-4730-f2d5-8a2bc88655cc"
      },
      "source": [
        "print('name  : ', v.name)\n",
        "print('type  : ', v.dtype)\n",
        "print('shape : ', v.shape)\n",
        "print('device: ', v.device)"
      ],
      "execution_count": 11,
      "outputs": [
        {
          "output_type": "stream",
          "text": [
            "name  :  Variable:0\n",
            "type  :  <dtype: 'float32'>\n",
            "shape :  ()\n",
            "device:  /job:localhost/replica:0/task:0/device:GPU:0\n"
          ],
          "name": "stdout"
        }
      ]
    },
    {
      "cell_type": "markdown",
      "metadata": {
        "id": "5irSm-yDN0nV",
        "colab_type": "text"
      },
      "source": [
        "# Gradient Evaluation"
      ]
    },
    {
      "cell_type": "markdown",
      "metadata": {
        "id": "y36ig_TVAAoM",
        "colab_type": "text"
      },
      "source": [
        "Gradient evaluation is very importnat machine learning because it is based on function optimization. You can use `tf.GradientTape()` method to record the gradient of an arbitrary function"
      ]
    },
    {
      "cell_type": "code",
      "metadata": {
        "id": "bdZmXyAi_3M3",
        "colab_type": "code",
        "colab": {
          "base_uri": "https://localhost:8080/",
          "height": 34
        },
        "outputId": "8eff19d1-8d0e-4813-a41e-e0ab0d7be3a5"
      },
      "source": [
        "w = tf.Variable(2.0)\n",
        "\n",
        "#watch the gradient of the loss operation\n",
        "with tf.GradientTape() as tape:\n",
        "  loss = w * w\n",
        "\n",
        "grad = tape.gradient(loss, w)\n",
        "print(f'The gradient of w^2 at {w.numpy()} is {grad.numpy()}')"
      ],
      "execution_count": 12,
      "outputs": [
        {
          "output_type": "stream",
          "text": [
            "The gradient of w^2 at 2.0 is 4.0\n"
          ],
          "name": "stdout"
        }
      ]
    },
    {
      "cell_type": "markdown",
      "metadata": {
        "colab_type": "text",
        "id": "0NhC1mQbao1R"
      },
      "source": [
        " In this example we evaluate the gradient of the sigmoid function \n",
        "\n",
        "$$\\sigma(x) = \\frac{1}{1+e^{-x}}$$\n",
        "\n",
        "Note that \n",
        "\n",
        "$$\\sigma'(x) = \\frac{e^{-x}}{(1+e^{-x})^2} = \\sigma(x)(1-\\sigma(x)) $$\n",
        "\n",
        "For isntance \n",
        "\n",
        "$$\\sigma'(0) = \\sigma(0)(1-\\sigma(0)) = \\frac{1}{2}\\left(1-\\frac{1}{2} \\right) = \\frac{1}{4}$$"
      ]
    },
    {
      "cell_type": "code",
      "metadata": {
        "id": "sXH9Qjmgayf2",
        "colab_type": "code",
        "colab": {}
      },
      "source": [
        "def sigmoid(x):\n",
        "  return 1/(1 + tf.exp(-x))"
      ],
      "execution_count": 13,
      "outputs": []
    },
    {
      "cell_type": "code",
      "metadata": {
        "colab_type": "code",
        "id": "tgfIrcX7YyGF",
        "colab": {
          "base_uri": "https://localhost:8080/",
          "height": 34
        },
        "outputId": "818daa83-755d-44fb-9b73-2db07cc9aa93"
      },
      "source": [
        "#define a varaible\n",
        "x = tf.Variable(0.)\n",
        "\n",
        "#record the gradient\n",
        "with tf.GradientTape() as tape:\n",
        "  y = sigmoid(x)\n",
        "  \n",
        "print('The gradient of the sigmoid function at 0.0 is ', tape.gradient(y, x).numpy())"
      ],
      "execution_count": 14,
      "outputs": [
        {
          "output_type": "stream",
          "text": [
            "The gradient of the sigmoid function at 0.0 is  0.25\n"
          ],
          "name": "stdout"
        }
      ]
    },
    {
      "cell_type": "markdown",
      "metadata": {
        "id": "Jew_BsZaYeVz",
        "colab_type": "text"
      },
      "source": [
        "You can also compute higher order derivatives by nesting a gradient functions. For instance, \n",
        "\n",
        "$$f(x) = \\log(x) , f'(x) = \\frac{1}{x}, f''(x) = \\frac{-1}{x^2}$$"
      ]
    },
    {
      "cell_type": "code",
      "metadata": {
        "id": "EeLUjBdVbsKM",
        "colab_type": "code",
        "colab": {}
      },
      "source": [
        "def log(x):\n",
        "  return tf.math.log(x)"
      ],
      "execution_count": 15,
      "outputs": []
    },
    {
      "cell_type": "markdown",
      "metadata": {
        "id": "hvpN3Eg0dWd-",
        "colab_type": "text"
      },
      "source": [
        "We could compute the gradient by nesting multiple gradient tapes "
      ]
    },
    {
      "cell_type": "code",
      "metadata": {
        "id": "UoFFIr_AXUnm",
        "colab_type": "code",
        "colab": {
          "base_uri": "https://localhost:8080/",
          "height": 51
        },
        "outputId": "26ccc53c-0d87-4459-c547-30b2eb5d92b7"
      },
      "source": [
        "#define a variable \n",
        "x = tf.Variable(1.)\n",
        "\n",
        "#record second order gradient \n",
        "with tf.GradientTape() as t1:\n",
        "  with tf.GradientTape() as t2:\n",
        "    y = log(x)\n",
        "  dx = t2.gradient(y, x)  \n",
        "dx2 = t1.gradient(dx, x)\n",
        "\n",
        "print('The first  derivative of log at x = 1 is ', dx.numpy())\n",
        "print('The second derivative of log at x = 1 is ', dx2.numpy())"
      ],
      "execution_count": 16,
      "outputs": [
        {
          "output_type": "stream",
          "text": [
            "The first  derivative of log at x = 1 is  1.0\n",
            "The second derivative of log at x = 1 is  -1.0\n"
          ],
          "name": "stdout"
        }
      ]
    },
    {
      "cell_type": "markdown",
      "metadata": {
        "id": "hBVnUE6DRDFw",
        "colab_type": "text"
      },
      "source": [
        "# Custom Gradients\n",
        "\n",
        "Some times the gradient is not what we want espeically if there is a problem in numerical instabilitiy. Consider the following function and its gradient \n",
        "\n",
        "$$f(x) = \\log(1+e^x)$$\n",
        "\n",
        "The gradient is \n",
        "\n",
        "$$f'(x) = \\frac{e^x}{1+e^x}$$\n",
        "\n",
        "Note that at big values of $x$ the gradient value will blow up."
      ]
    },
    {
      "cell_type": "code",
      "metadata": {
        "id": "YR_7vj1TdnFS",
        "colab_type": "code",
        "colab": {}
      },
      "source": [
        "def logexp(x):\n",
        "  return tf.math.log(1 + tf.exp(x))"
      ],
      "execution_count": 17,
      "outputs": []
    },
    {
      "cell_type": "code",
      "metadata": {
        "id": "hJtTtTQXdpqB",
        "colab_type": "code",
        "colab": {}
      },
      "source": [
        "def grad_logexp(x):\n",
        "  with tf.GradientTape() as tape:\n",
        "    y = logexp(x)\n",
        "  dx = tape.gradient(y, x)\n",
        "  return dx"
      ],
      "execution_count": 18,
      "outputs": []
    },
    {
      "cell_type": "code",
      "metadata": {
        "id": "autHEivlRp9M",
        "colab_type": "code",
        "colab": {
          "base_uri": "https://localhost:8080/",
          "height": 51
        },
        "outputId": "9fbcbfea-c5ab-4da2-ff2a-581c2579d1a3"
      },
      "source": [
        "x = tf.Variable(0.)\n",
        "print('The gradient at x = 0  is ', grad_logexp(x).numpy())\n",
        "x = tf.Variable(100.)\n",
        "print('The gradient at x = 100 is ', grad_logexp(x).numpy()) "
      ],
      "execution_count": 19,
      "outputs": [
        {
          "output_type": "stream",
          "text": [
            "The gradient at x = 0  is  0.5\n",
            "The gradient at x = 100 is  nan\n"
          ],
          "name": "stdout"
        }
      ]
    },
    {
      "cell_type": "markdown",
      "metadata": {
        "id": "c19m7XawUR1a",
        "colab_type": "text"
      },
      "source": [
        " We can revaluate the gradient by overriding the gradient of the function. We can recompute the gradient as \n",
        "\n",
        "$$f(x) =  \\frac{1+e^x -e^x }{1+e^x} = 1 - \\frac{1}{1 + e^{x}}$$"
      ]
    },
    {
      "cell_type": "code",
      "metadata": {
        "id": "6NBcha9HgMeM",
        "colab_type": "code",
        "colab": {}
      },
      "source": [
        "@tf.custom_gradient\n",
        "def logexp_stable(x):\n",
        "  e = tf.exp(x)\n",
        "  #dy is optional, allows computation of vector jacobian products for vectors other than the vector of ones.\n",
        "  def grad(dy):\n",
        "    return dy * (1 - 1 / (1 + e))\n",
        "  return tf.math.log(1 + e), grad"
      ],
      "execution_count": 20,
      "outputs": []
    },
    {
      "cell_type": "code",
      "metadata": {
        "id": "GgrDtMCkgKM-",
        "colab_type": "code",
        "colab": {}
      },
      "source": [
        "def grad_logexp(x):\n",
        "  with tf.GradientTape() as tape:\n",
        "    y = logexp_stable(x)\n",
        "  dx = tape.gradient(y, x)\n",
        "  return dx"
      ],
      "execution_count": 21,
      "outputs": []
    },
    {
      "cell_type": "code",
      "metadata": {
        "id": "EmPT2S6XUJ8C",
        "colab_type": "code",
        "colab": {
          "base_uri": "https://localhost:8080/",
          "height": 34
        },
        "outputId": "89ea297f-1668-44c2-bcc8-a58213663c99"
      },
      "source": [
        "x = tf.Variable(100.)\n",
        "print('The gradient at x = 100 is ', grad_logexp(x).numpy()) "
      ],
      "execution_count": 22,
      "outputs": [
        {
          "output_type": "stream",
          "text": [
            "The gradient at x = 100 is  1.0\n"
          ],
          "name": "stdout"
        }
      ]
    },
    {
      "cell_type": "markdown",
      "metadata": {
        "id": "7JnhTNT9Vp8b",
        "colab_type": "text"
      },
      "source": [
        "# tf.function"
      ]
    },
    {
      "cell_type": "markdown",
      "metadata": {
        "id": "EYc484SZV4aD",
        "colab_type": "text"
      },
      "source": [
        "tf.function is a very useful module that can be used to convert simple python functions to static graph operators. For instance, it is difficult to use conditions in graphs but we could implement that easily using `@tf.function` decorator. \n",
        "\n",
        "We know that $f(x) = |x|$ has no derivative at $0$ so we can estimate the derivative at $)$ as $0$ using the following function\n",
        "$$g(x) = \n",
        "\\begin{cases}\n",
        "1 & x > 0 \\\\\n",
        "-1 & x < 0 \\\\\n",
        "0 & x = 0 \n",
        "\\end{cases}$$"
      ]
    },
    {
      "cell_type": "code",
      "metadata": {
        "id": "UKe3f9CJWTj_",
        "colab_type": "code",
        "colab": {}
      },
      "source": [
        "@tf.function \n",
        "def g(x):\n",
        "  if x > 0:\n",
        "    return 1\n",
        "  elif x < 0:\n",
        "    return -1\n",
        "  else:\n",
        "    return 0"
      ],
      "execution_count": 23,
      "outputs": []
    },
    {
      "cell_type": "code",
      "metadata": {
        "id": "a7QS4tvPZIvy",
        "colab_type": "code",
        "colab": {
          "base_uri": "https://localhost:8080/",
          "height": 68
        },
        "outputId": "1689daf3-508f-401b-f55b-c09499f87ee4"
      },
      "source": [
        "print('If value is positive ', g(3).numpy())\n",
        "print('If value is negative ', g(-3).numpy())\n",
        "print('If value is zero ', g(0).numpy())"
      ],
      "execution_count": 24,
      "outputs": [
        {
          "output_type": "stream",
          "text": [
            "If value is positive  1\n",
            "If value is negative  -1\n",
            "If value is zero  0\n"
          ],
          "name": "stdout"
        }
      ]
    },
    {
      "cell_type": "markdown",
      "metadata": {
        "id": "qofbAYzRO3IW",
        "colab_type": "text"
      },
      "source": [
        "# Object Oriented Metrics\n",
        "You can use `metrics` to record tensors/values and operate on them at the end. This is useful when recording the training history and you want to evaluate it at the end. Use `.result()` to evaluate the metric at the end. "
      ]
    },
    {
      "cell_type": "code",
      "metadata": {
        "id": "u4DkG8BBO74o",
        "colab_type": "code",
        "colab": {
          "base_uri": "https://localhost:8080/",
          "height": 34
        },
        "outputId": "03859e74-5c94-4458-96f5-3c5ec4f5a7e0"
      },
      "source": [
        "m = tf.keras.metrics.Mean(\"loss\")\n",
        "\n",
        "#record the loss \n",
        "m(2)\n",
        "m(4)\n",
        "\n",
        "print('The mean loss is ', m.result().numpy())"
      ],
      "execution_count": 25,
      "outputs": [
        {
          "output_type": "stream",
          "text": [
            "The mean loss is  3.0\n"
          ],
          "name": "stdout"
        }
      ]
    },
    {
      "cell_type": "markdown",
      "metadata": {
        "id": "erOTyJXWbHNJ",
        "colab_type": "text"
      },
      "source": [
        "If you want to remove the recorded values, you can `reset` the variables "
      ]
    },
    {
      "cell_type": "code",
      "metadata": {
        "id": "VJ20YHw9bILA",
        "colab_type": "code",
        "colab": {
          "base_uri": "https://localhost:8080/",
          "height": 34
        },
        "outputId": "486c5f60-d9d1-45b3-ba3a-f1abdf876400"
      },
      "source": [
        "m.reset_states()\n",
        "print('The mean loss is ', m.result().numpy())"
      ],
      "execution_count": 26,
      "outputs": [
        {
          "output_type": "stream",
          "text": [
            "The mean loss is  0.0\n"
          ],
          "name": "stdout"
        }
      ]
    },
    {
      "cell_type": "markdown",
      "metadata": {
        "id": "hbIHKtEEbujP",
        "colab_type": "text"
      },
      "source": [
        "# Linear Regression \n",
        "\n",
        "This example is refactored from https://www.tensorflow.org/guide/eager. We create a complete example of using linear regression to predict the paramters of the function \n",
        "\n",
        "$$f(x) = 3 x + 2 + noise$$\n",
        "\n",
        "Given a point $x$ we want to predict the value of $y$. We train the model on 1000 data pairs $(x,f(x))$. \n",
        "\n",
        "The model to learn is a linear model \n",
        "\n",
        "$$\\hat{y} = W x + b$$\n",
        "\n",
        "Note that, we use `tf.GradientTape` to record the gradient with respect our trainable paramters.  \n",
        "\n",
        "We MSE to calcuate the loss \n",
        "\n",
        "$$g = (y-\\hat{y})^2$$\n",
        "\n",
        "We use Gradient Descent to update the paramters \n",
        "\n",
        "$$W = W - \\alpha  \\frac{\\partial g}{\\partial W}$$\n",
        "\n",
        "$$b = b - \\alpha  \\frac{\\partial g}{\\partial b}$$"
      ]
    },
    {
      "cell_type": "code",
      "metadata": {
        "id": "P7A5lcylAERT",
        "colab_type": "code",
        "colab": {
          "base_uri": "https://localhost:8080/",
          "height": 204
        },
        "outputId": "c2caed03-e619-4b0f-d6c6-93fe79993e36"
      },
      "source": [
        "#1000 data points \n",
        "NUM_EXAMPLES = 1000\n",
        "\n",
        "#define inputs and outputs with some noise \n",
        "X = tf.random.normal([NUM_EXAMPLES])  #inputs \n",
        "noise = tf.random.normal([NUM_EXAMPLES]) #noise \n",
        "y = X * 3 + 2 + noise  #true output\n",
        "\n",
        "#create model paramters with initial values \n",
        "W = tf.Variable(0.)\n",
        "b = tf.Variable(0.)\n",
        "\n",
        "#training info\n",
        "train_steps = 200\n",
        "learning_rate = 0.01\n",
        "\n",
        "for i in range(train_steps):\n",
        "  \n",
        "  #watch the gradient flow \n",
        "  with tf.GradientTape() as tape:\n",
        "    \n",
        "    #forward pass \n",
        "    yhat = X * W + b\n",
        "    \n",
        "    #calcuate the loss (difference squared error)\n",
        "    error = yhat - y\n",
        "    loss = tf.reduce_mean(tf.square(error))\n",
        "  \n",
        "  #evalute the gradient with the respect to the paramters\n",
        "  dW, db = tape.gradient(loss, [W, b])\n",
        "\n",
        "  #update the paramters using Gradient Descent  \n",
        "  W.assign_sub(dW * learning_rate)\n",
        "  b.assign_sub(db* learning_rate)\n",
        "\n",
        "  #print the loss every 20 iterations \n",
        "  if i % 20 == 0:\n",
        "    print(\"Loss at step {:03d}: {:.3f}\".format(i, loss))\n",
        "      \n",
        "print(f'W : {W.numpy()} , b  = {b.numpy()} ')"
      ],
      "execution_count": 27,
      "outputs": [
        {
          "output_type": "stream",
          "text": [
            "Loss at step 000: 14.039\n",
            "Loss at step 020: 6.809\n",
            "Loss at step 040: 3.589\n",
            "Loss at step 060: 2.155\n",
            "Loss at step 080: 1.516\n",
            "Loss at step 100: 1.231\n",
            "Loss at step 120: 1.104\n",
            "Loss at step 140: 1.048\n",
            "Loss at step 160: 1.023\n",
            "Loss at step 180: 1.012\n",
            "W : 2.93808650970459 , b  = 1.985152006149292 \n"
          ],
          "name": "stdout"
        }
      ]
    },
    {
      "cell_type": "markdown",
      "metadata": {
        "id": "HAbR8BM7J3-t",
        "colab_type": "text"
      },
      "source": [
        "# Dataset Processing and Augmentation"
      ]
    },
    {
      "cell_type": "code",
      "metadata": {
        "id": "nLYuN04dPFJd",
        "colab_type": "code",
        "colab": {}
      },
      "source": [
        "import numpy as np\n",
        "import matplotlib.pyplot as plt\n",
        "import os\n",
        "import random"
      ],
      "execution_count": 28,
      "outputs": []
    },
    {
      "cell_type": "markdown",
      "metadata": {
        "id": "CIbF-GUHPXZO",
        "colab_type": "text"
      },
      "source": [
        "You can easily use MNIST "
      ]
    },
    {
      "cell_type": "code",
      "metadata": {
        "id": "fQxLk3_Lk3OP",
        "colab_type": "code",
        "colab": {
          "base_uri": "https://localhost:8080/",
          "height": 51
        },
        "outputId": "4cce90c9-2d6e-4d2c-f1fa-98080fb053b6"
      },
      "source": [
        "(x_train, y_train), (x_test, y_test) = tf.keras.datasets.mnist.load_data()"
      ],
      "execution_count": 29,
      "outputs": [
        {
          "output_type": "stream",
          "text": [
            "Downloading data from https://storage.googleapis.com/tensorflow/tf-keras-datasets/mnist.npz\n",
            "11493376/11490434 [==============================] - 0s 0us/step\n"
          ],
          "name": "stdout"
        }
      ]
    },
    {
      "cell_type": "markdown",
      "metadata": {
        "id": "ncJvViT2PgQD",
        "colab_type": "text"
      },
      "source": [
        "We can apply a set of transformations using `tf.image`"
      ]
    },
    {
      "cell_type": "code",
      "metadata": {
        "id": "7WcLqQ4gNao_",
        "colab_type": "code",
        "colab": {
          "base_uri": "https://localhost:8080/",
          "height": 143
        },
        "outputId": "bce1636d-070b-4479-ae57-841d5b53da5c"
      },
      "source": [
        "img = x_train[2:3]\n",
        "img = np.expand_dims(img, -1)\n",
        "\n",
        "#flipping horizontally\n",
        "img1 = tf.image.flip_left_right(img)\n",
        "\n",
        "#flipping vertically\n",
        "img2 = tf.image.flip_up_down(img)\n",
        "\n",
        "\n",
        "plt.axis('off')\n",
        "plt.imshow(tf.concat([img, img1, img2], axis = 2).numpy().squeeze())\n",
        "plt.show()"
      ],
      "execution_count": 30,
      "outputs": [
        {
          "output_type": "display_data",
          "data": {
            "image/png": "[encoded data removed]",
            "text/plain": [
              "<Figure size 432x288 with 1 Axes>"
            ]
          },
          "metadata": {
            "tags": [],
            "needs_background": "light"
          }
        }
      ]
    },
    {
      "cell_type": "markdown",
      "metadata": {
        "id": "C8oJ-u_UP_eQ",
        "colab_type": "text"
      },
      "source": [
        "Here we examplain the pipeline of creating a dataset. Note that we have 3 main important functions in `tf.data.Dataset `\n",
        "\n",
        "\n",
        "\n",
        "*   `from_tensor_slices` which convert the input to a tensor \n",
        "*   `map` which applies a certain function to every tensor \n",
        "* `batch` which creates a batch of tensors of certain size\n",
        "\n"
      ]
    },
    {
      "cell_type": "code",
      "metadata": {
        "id": "Y2CeekFxkMXc",
        "colab_type": "code",
        "colab": {}
      },
      "source": [
        "def pre_process(x, y):\n",
        "  #normalize and expand\n",
        "  x = tf.cast(x, tf.float32)/255.\n",
        "  x = tf.expand_dims(x, -1)\n",
        "  \n",
        "  #cast the labels\n",
        "  y = tf.cast(y, tf.int32)\n",
        "  return x, y\n",
        "\n",
        "def create_dataset(x, y):  \n",
        "  #convert to tensors and shuffle\n",
        "  dataset = tf.data.Dataset.from_tensor_slices((x , y)).shuffle(len(x)-1)\n",
        "  \n",
        "  #extract batches\n",
        "  dataset = dataset.batch(32)\n",
        "  \n",
        "  #preprocess the batch\n",
        "  dataset = dataset.map(pre_process, num_parallel_calls = 4)\n",
        "  \n",
        "  return dataset"
      ],
      "execution_count": 31,
      "outputs": []
    },
    {
      "cell_type": "markdown",
      "metadata": {
        "id": "0ywOcraLRFg0",
        "colab_type": "text"
      },
      "source": [
        "Now we can create a dataset and iterate over it "
      ]
    },
    {
      "cell_type": "code",
      "metadata": {
        "id": "s8kGBjCblM3K",
        "colab_type": "code",
        "colab": {}
      },
      "source": [
        "train_dataset = create_dataset(x_train, y_train)\n",
        "test_dataset  = create_dataset(x_test , y_test)"
      ],
      "execution_count": 32,
      "outputs": []
    },
    {
      "cell_type": "code",
      "metadata": {
        "id": "OOZ576C4IsUV",
        "colab_type": "code",
        "colab": {
          "base_uri": "https://localhost:8080/",
          "height": 248
        },
        "outputId": "393bf0fb-8f74-4273-df10-b40c0e448051"
      },
      "source": [
        "for x, y in train_dataset:\n",
        "  plt.imshow(x[0].numpy().squeeze(), cmap = 'gray')\n",
        "  plt.axis('off')\n",
        "  plt.show()\n",
        "  break"
      ],
      "execution_count": 33,
      "outputs": [
        {
          "output_type": "display_data",
          "data": {
            "image/png": "[encoded data removed]",
            "text/plain": [
              "<Figure size 432x288 with 1 Axes>"
            ]
          },
          "metadata": {
            "tags": [],
            "needs_background": "light"
          }
        }
      ]
    },
    {
      "cell_type": "markdown",
      "metadata": {
        "id": "4A8pfvNIuViC",
        "colab_type": "text"
      },
      "source": [
        "# Custom Layers"
      ]
    },
    {
      "cell_type": "markdown",
      "metadata": {
        "id": "T2KkEWEQNRaR",
        "colab_type": "text"
      },
      "source": [
        "In this section we learn how to make custom layers. But, first let us learn how to create **initializers**. Initializers are used to create the initiall parameters of a given layer. Let us create a uniform random initialzers. "
      ]
    },
    {
      "cell_type": "code",
      "metadata": {
        "id": "lHTU6nSCO6KP",
        "colab_type": "code",
        "colab": {}
      },
      "source": [
        "initializer = tf.random_uniform_initializer()"
      ],
      "execution_count": 34,
      "outputs": []
    },
    {
      "cell_type": "markdown",
      "metadata": {
        "id": "YdAtmHtYP2kz",
        "colab_type": "text"
      },
      "source": [
        "Then we can create a tensor initialized with values extracted from a uniform distribution"
      ]
    },
    {
      "cell_type": "code",
      "metadata": {
        "id": "KpwL2j5MQLE6",
        "colab_type": "code",
        "colab": {
          "base_uri": "https://localhost:8080/",
          "height": 51
        },
        "outputId": "92bf77b6-243c-4152-847e-cf076c834f7e"
      },
      "source": [
        "x = tf.Variable(initializer(shape = (10,)))\n",
        "print(x.numpy())"
      ],
      "execution_count": 35,
      "outputs": [
        {
          "output_type": "stream",
          "text": [
            "[ 0.02705752  0.00690214 -0.04234174  0.00781972 -0.0119317   0.04803615\n",
            " -0.03587245 -0.03044435 -0.0162141   0.04692508]\n"
          ],
          "name": "stdout"
        }
      ]
    },
    {
      "cell_type": "markdown",
      "metadata": {
        "id": "i19TBOVoSPMj",
        "colab_type": "text"
      },
      "source": [
        "Now, let us create a simple linear layer. A linear layer is defined in the following fashion \n",
        "\n",
        "$$y = WX+b$$\n",
        "\n",
        "where $X$ is the input batch, $W$ is the weight matrix and $b$ is the bias. "
      ]
    },
    {
      "cell_type": "code",
      "metadata": {
        "id": "5tmMyx5CuZiO",
        "colab_type": "code",
        "colab": {}
      },
      "source": [
        "from tensorflow.keras.layers import Layer"
      ],
      "execution_count": 36,
      "outputs": []
    },
    {
      "cell_type": "code",
      "metadata": {
        "id": "kkMuUKtZuU8h",
        "colab_type": "code",
        "colab": {}
      },
      "source": [
        "class Linear(Layer):\n",
        "\n",
        "  def __init__(self, units=32, input_dim=32):\n",
        "      super(Linear, self).__init__()\n",
        "      \n",
        "      #random initializer for the weights \n",
        "      w_init = tf.random_normal_initializer()\n",
        "      self.w = tf.Variable(\n",
        "          initial_value=w_init(shape=(input_dim, units), dtype='float32'),\n",
        "          trainable=True)\n",
        "      \n",
        "      #zero initialized biases\n",
        "      b_init = tf.zeros_initializer()\n",
        "      self.b = tf.Variable(\n",
        "          initial_value=b_init(shape=(units,), dtype='float32'),\n",
        "          trainable=True)\n",
        "\n",
        "  def call(self, inputs):\n",
        "      #froward call\n",
        "      return tf.matmul(inputs, self.w) + self.b"
      ],
      "execution_count": 37,
      "outputs": []
    },
    {
      "cell_type": "code",
      "metadata": {
        "id": "vcAflLdduu0L",
        "colab_type": "code",
        "colab": {}
      },
      "source": [
        "#create a simple linear layer that has 10 neorons and accept inputs of size 3\n",
        "llayer = Linear(units = 10, input_dim = 3)"
      ],
      "execution_count": 38,
      "outputs": []
    },
    {
      "cell_type": "code",
      "metadata": {
        "id": "0OX9D7e8MrRT",
        "colab_type": "code",
        "colab": {
          "base_uri": "https://localhost:8080/",
          "height": 153
        },
        "outputId": "ab53f7fa-339f-420c-97be-f405256dcfe8"
      },
      "source": [
        "#forward call of batch of size 3\n",
        "llayer(tf.ones((3, 3)))"
      ],
      "execution_count": 39,
      "outputs": [
        {
          "output_type": "execute_result",
          "data": {
            "text/plain": [
              "<tf.Tensor: shape=(3, 10), dtype=float32, numpy=\n",
              "array([[ 0.03746212, -0.0415617 ,  0.0819708 ,  0.0862165 , -0.0496228 ,\n",
              "         0.16408122,  0.06195068, -0.06296675,  0.07243911, -0.19035712],\n",
              "       [ 0.03746212, -0.0415617 ,  0.0819708 ,  0.0862165 , -0.0496228 ,\n",
              "         0.16408122,  0.06195068, -0.06296675,  0.07243911, -0.19035712],\n",
              "       [ 0.03746212, -0.0415617 ,  0.0819708 ,  0.0862165 , -0.0496228 ,\n",
              "         0.16408122,  0.06195068, -0.06296675,  0.07243911, -0.19035712]],\n",
              "      dtype=float32)>"
            ]
          },
          "metadata": {
            "tags": []
          },
          "execution_count": 39
        }
      ]
    },
    {
      "cell_type": "markdown",
      "metadata": {
        "id": "JE8BnpyA7kfZ",
        "colab_type": "text"
      },
      "source": [
        "# End-to-End CNN Example\n",
        "\n",
        "Here we create a simple convolutional neural network (CNN)to recognize hand-written digits (MNIST). We start by creating a simple alexnet CNN model. \n",
        "\n",
        "![alt text](https://i.imgur.com/twUKrlo.png)"
      ]
    },
    {
      "cell_type": "code",
      "metadata": {
        "id": "5nJYdULqiee7",
        "colab_type": "code",
        "colab": {}
      },
      "source": [
        "from tensorflow.keras.layers import Dense, Convolution2D, MaxPooling2D, Flatten, BatchNormalization, Dropout\n",
        "from tensorflow.keras.models import Sequential"
      ],
      "execution_count": 40,
      "outputs": []
    },
    {
      "cell_type": "code",
      "metadata": {
        "id": "_cuZWAmejXH4",
        "colab_type": "code",
        "colab": {}
      },
      "source": [
        "def create_model():\n",
        "  model = Sequential()\n",
        "  model.add(Convolution2D(filters = 16, kernel_size = 3, padding = 'same', input_shape = [28, 28, 1], activation = 'relu'))\n",
        "  model.add(MaxPooling2D(pool_size = (2,2)))\n",
        "  model.add(Convolution2D(filters = 32, kernel_size = 3, padding = 'same', activation = 'relu'))\n",
        "  model.add(MaxPooling2D(pool_size = (2,2)))\n",
        "  model.add(Flatten())\n",
        "  model.add(Dense(units = 100, activation = 'relu'))\n",
        "  model.add(Dropout(0.5))\n",
        "  model.add(Dense(units = 10 , activation = 'softmax'))\n",
        "  return model"
      ],
      "execution_count": 41,
      "outputs": []
    },
    {
      "cell_type": "markdown",
      "metadata": {
        "id": "YkEgDGCmO7_i",
        "colab_type": "text"
      },
      "source": [
        "## Create the model "
      ]
    },
    {
      "cell_type": "code",
      "metadata": {
        "id": "LvTw6rrnkiMI",
        "colab_type": "code",
        "colab": {
          "base_uri": "https://localhost:8080/",
          "height": 425
        },
        "outputId": "8812d6f7-5a94-43cf-b5ca-912ea73ed207"
      },
      "source": [
        "model = create_model()\n",
        "model.summary()"
      ],
      "execution_count": 42,
      "outputs": [
        {
          "output_type": "stream",
          "text": [
            "Model: \"sequential\"\n",
            "_________________________________________________________________\n",
            "Layer (type)                 Output Shape              Param #   \n",
            "=================================================================\n",
            "conv2d (Conv2D)              (None, 28, 28, 16)        160       \n",
            "_________________________________________________________________\n",
            "max_pooling2d (MaxPooling2D) (None, 14, 14, 16)        0         \n",
            "_________________________________________________________________\n",
            "conv2d_1 (Conv2D)            (None, 14, 14, 32)        4640      \n",
            "_________________________________________________________________\n",
            "max_pooling2d_1 (MaxPooling2 (None, 7, 7, 32)          0         \n",
            "_________________________________________________________________\n",
            "flatten (Flatten)            (None, 1568)              0         \n",
            "_________________________________________________________________\n",
            "dense (Dense)                (None, 100)               156900    \n",
            "_________________________________________________________________\n",
            "dropout (Dropout)            (None, 100)               0         \n",
            "_________________________________________________________________\n",
            "dense_1 (Dense)              (None, 10)                1010      \n",
            "=================================================================\n",
            "Total params: 162,710\n",
            "Trainable params: 162,710\n",
            "Non-trainable params: 0\n",
            "_________________________________________________________________\n"
          ],
          "name": "stdout"
        }
      ]
    },
    {
      "cell_type": "markdown",
      "metadata": {
        "id": "w8xMs3nh5cw2",
        "colab_type": "text"
      },
      "source": [
        "Look at the output by frowarding a batch of zero images. "
      ]
    },
    {
      "cell_type": "code",
      "metadata": {
        "id": "ZilarnvZ5cDS",
        "colab_type": "code",
        "colab": {
          "base_uri": "https://localhost:8080/",
          "height": 204
        },
        "outputId": "b0201aa9-d89b-4579-a85d-cf3f1fb23851"
      },
      "source": [
        "import numpy as np\n",
        "model(np.zeros((10, 28, 28, 1), np.float32))"
      ],
      "execution_count": 43,
      "outputs": [
        {
          "output_type": "execute_result",
          "data": {
            "text/plain": [
              "<tf.Tensor: shape=(10, 10), dtype=float32, numpy=\n",
              "array([[0.1, 0.1, 0.1, 0.1, 0.1, 0.1, 0.1, 0.1, 0.1, 0.1],\n",
              "       [0.1, 0.1, 0.1, 0.1, 0.1, 0.1, 0.1, 0.1, 0.1, 0.1],\n",
              "       [0.1, 0.1, 0.1, 0.1, 0.1, 0.1, 0.1, 0.1, 0.1, 0.1],\n",
              "       [0.1, 0.1, 0.1, 0.1, 0.1, 0.1, 0.1, 0.1, 0.1, 0.1],\n",
              "       [0.1, 0.1, 0.1, 0.1, 0.1, 0.1, 0.1, 0.1, 0.1, 0.1],\n",
              "       [0.1, 0.1, 0.1, 0.1, 0.1, 0.1, 0.1, 0.1, 0.1, 0.1],\n",
              "       [0.1, 0.1, 0.1, 0.1, 0.1, 0.1, 0.1, 0.1, 0.1, 0.1],\n",
              "       [0.1, 0.1, 0.1, 0.1, 0.1, 0.1, 0.1, 0.1, 0.1, 0.1],\n",
              "       [0.1, 0.1, 0.1, 0.1, 0.1, 0.1, 0.1, 0.1, 0.1, 0.1],\n",
              "       [0.1, 0.1, 0.1, 0.1, 0.1, 0.1, 0.1, 0.1, 0.1, 0.1]], dtype=float32)>"
            ]
          },
          "metadata": {
            "tags": []
          },
          "execution_count": 43
        }
      ]
    },
    {
      "cell_type": "markdown",
      "metadata": {
        "id": "nIRZj1pyPnbJ",
        "colab_type": "text"
      },
      "source": [
        "## Design the loss function, Gradient and Accuracy metric"
      ]
    },
    {
      "cell_type": "code",
      "metadata": {
        "id": "6ERHfE-Z4KvV",
        "colab_type": "code",
        "colab": {}
      },
      "source": [
        "#evaluate the loss\n",
        "def loss(y, yhat):\n",
        "  #this applies the loss to sparse labels i.e not one hot encoded \n",
        "  return tf.keras.losses.sparse_categorical_crossentropy(y, yhat)\n",
        "\n",
        "#record the gradient with respect to the model variables \n",
        "def grad(model, x, y):\n",
        "  with tf.GradientTape() as tape:\n",
        "    yhat = model(x)\n",
        "    loss_value = loss(y, yhat)\n",
        "  return tape.gradient(loss_value, model.trainable_variables)\n",
        "\n",
        "#calcuate the accuracy of the model \n",
        "def accuracy(y, yhat):\n",
        "  \n",
        "  #get the labels of the predicted values \n",
        "  yhat = tf.argmax(yhat, 1).numpy()\n",
        "  \n",
        "  #get the labels of the true values\n",
        "  y    = y.numpy()\n",
        "  return np.sum(y == yhat)/len(y)"
      ],
      "execution_count": 44,
      "outputs": []
    },
    {
      "cell_type": "markdown",
      "metadata": {
        "id": "yw-Mk_nJP0vp",
        "colab_type": "text"
      },
      "source": [
        "## Intitalize the variables"
      ]
    },
    {
      "cell_type": "code",
      "metadata": {
        "id": "6UXs1mEKSRwe",
        "colab_type": "code",
        "colab": {}
      },
      "source": [
        "#use Adam optimizer \n",
        "optimizer = tf.keras.optimizers.Adam()\n",
        "\n",
        "#record epoch loss and accuracy  \n",
        "loss_history = tf.keras.metrics.Mean(\"loss\")\n",
        "accuracy_history = tf.keras.metrics.Mean(\"accuracy\")\n",
        "\n",
        "#epochs\n",
        "epochs = 3"
      ],
      "execution_count": 45,
      "outputs": []
    },
    {
      "cell_type": "markdown",
      "metadata": {
        "id": "Xm5mBuUOSQwg",
        "colab_type": "text"
      },
      "source": [
        "## Training"
      ]
    },
    {
      "cell_type": "code",
      "metadata": {
        "id": "XUx2dlTirg_t",
        "colab_type": "code",
        "colab": {
          "base_uri": "https://localhost:8080/",
          "height": 68
        },
        "outputId": "976bf965-0322-47b1-830c-85e1c26a9ab0"
      },
      "source": [
        "for epoch in range(1, epochs + 1):\n",
        "  for x, y in train_dataset:\n",
        "    \n",
        "    yhat = model(x)\n",
        "    # Calculate derivatives of the input function with respect to its parameters.\n",
        "    grads = grad(model, x, y)\n",
        "\n",
        "    # Apply the gradient to the model\n",
        "    optimizer.apply_gradients(zip(grads, model.trainable_variables))\n",
        "\n",
        "    #record the current loss and accuracy   \n",
        "    loss_history(loss(y, yhat))\n",
        "    accuracy_history(accuracy(y, yhat))\n",
        "\n",
        "  print(\"epoch: {:d} Loss: {:.3f}, Acc: {:.3f}\".format(epoch, loss_history.result(), accuracy_history.result()))\n",
        "\n",
        "  #clear the history \n",
        "  loss_history.reset_states()\n",
        "  accuracy_history.reset_states()"
      ],
      "execution_count": 46,
      "outputs": [
        {
          "output_type": "stream",
          "text": [
            "epoch: 1 Loss: 0.159, Acc: 0.952\n",
            "epoch: 2 Loss: 0.050, Acc: 0.984\n",
            "epoch: 3 Loss: 0.036, Acc: 0.989\n"
          ],
          "name": "stdout"
        }
      ]
    },
    {
      "cell_type": "markdown",
      "metadata": {
        "id": "onYJgb64Yct-",
        "colab_type": "text"
      },
      "source": [
        "## Testing"
      ]
    },
    {
      "cell_type": "code",
      "metadata": {
        "id": "Xdk9lG-sB6Y5",
        "colab_type": "code",
        "colab": {
          "base_uri": "https://localhost:8080/",
          "height": 34
        },
        "outputId": "402530f7-81de-4f57-d2c8-89b6f93ba83b"
      },
      "source": [
        "accuracy_history.reset_states()\n",
        "for x, y in test_dataset:\n",
        "    # Calculate derivatives of the input function with respect to its parameters.\n",
        "    yhat = model(x)\n",
        "\n",
        "    #record the current loss and accuracy   \n",
        "    accuracy_history(accuracy(y, yhat))\n",
        "print(\"Acc: {:.2f}\".format(accuracy_history.result()))"
      ],
      "execution_count": 47,
      "outputs": [
        {
          "output_type": "stream",
          "text": [
            "Acc: 0.99\n"
          ],
          "name": "stdout"
        }
      ]
    },
    {
      "cell_type": "markdown",
      "metadata": {
        "id": "VKtzhgMYNxFr",
        "colab_type": "text"
      },
      "source": [
        "# Save and Restore a Model\n",
        "You can save training history then restore it later. "
      ]
    },
    {
      "cell_type": "code",
      "metadata": {
        "id": "Ci3mmDTLM7oI",
        "colab_type": "code",
        "colab": {}
      },
      "source": [
        "#create a directory for saving the model\n",
        "import os\n",
        "\n",
        "#check if it exists\n",
        "if os.path.isdir('model'):\n",
        "  raise Exception('Folder exists !')\n",
        "else:\n",
        "  checkpoint_dir = 'model'\n",
        "  os.mkdir(checkpoint_dir)\n",
        "\n",
        "  #create a root for the checkpoint\n",
        "  checkpoint_prefix = os.path.join(checkpoint_dir, \"ckpt\")\n",
        "  root = tf.train.Checkpoint(optimizer=optimizer,\n",
        "                             model=model)\n",
        "\n",
        "  #save the model \n",
        "  root.save(file_prefix=checkpoint_prefix)"
      ],
      "execution_count": 48,
      "outputs": []
    },
    {
      "cell_type": "markdown",
      "metadata": {
        "id": "SMkTMzQjUjYy",
        "colab_type": "text"
      },
      "source": [
        "Restore the model "
      ]
    },
    {
      "cell_type": "code",
      "metadata": {
        "id": "AHFYo3Z-UPG0",
        "colab_type": "code",
        "colab": {}
      },
      "source": [
        "#create an empty model \n",
        "model = create_model()\n",
        "\n",
        "#create a checkpoint variable \n",
        "root = tf.train.Checkpoint(optimizer=optimizer,\n",
        "                           model=create_model())\n",
        "\n",
        "#restore the model\n",
        "root.restore(tf.train.latest_checkpoint(checkpoint_dir))\n",
        "\n",
        "#retrieve the trained model \n",
        "model = root.model "
      ],
      "execution_count": 49,
      "outputs": []
    },
    {
      "cell_type": "markdown",
      "metadata": {
        "id": "gn146NlK3k9N",
        "colab_type": "text"
      },
      "source": [
        "## References \n",
        "\n",
        "\n",
        "\n",
        "1.   https://www.tensorflow.org/tutorials\n",
        "\n"
      ]
    }
  ]
}