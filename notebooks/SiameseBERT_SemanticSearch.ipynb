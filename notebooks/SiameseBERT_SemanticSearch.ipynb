{
  "nbformat": 4,
  "nbformat_minor": 0,
  "metadata": {
    "colab": {
      "name": "SiameseBERT-SemanticSearch.ipynb",
      "provenance": [],
      "collapsed_sections": [],
      "include_colab_link": true
    },
    "kernelspec": {
      "name": "python3",
      "display_name": "Python 3"
    }
  },
  "cells": [
    {
      "cell_type": "markdown",
      "metadata": {
        "id": "view-in-github",
        "colab_type": "text"
      },
      "source": [
        "<a href=\"https://colab.research.google.com/github/dlmacedo/deep-learning-class/blob/master/notebooks/SiameseBERT_SemanticSearch.ipynb\" target=\"_parent\"><img src=\"https://colab.research.google.com/assets/colab-badge.svg\" alt=\"Open In Colab\"/></a>"
      ]
    },
    {
      "cell_type": "markdown",
      "metadata": {
        "id": "liIk8f980xT5",
        "colab_type": "text"
      },
      "source": [
        "# Sentence Embeddings using Siamese BERT-Networks\n",
        "---\n",
        "This Google Colab Notebook illustrates using the Sentence Transformer python library to quickly create BERT embeddings for sentences and perform fast semantic searches.\n",
        "\n",
        "The Sentence Transformer library is available on [pypi](https://pypi.org/project/sentence-transformers/) and [github](https://github.com/UKPLab/sentence-transformers). The library implements code from the ACL 2019 paper entitled \"[Sentence-BERT: Sentence Embeddings using Siamese BERT-Networks](https://www.aclweb.org/anthology/D19-1410.pdf)\" by Nils Reimers and Iryna Gurevych.\n"
      ]
    },
    {
      "cell_type": "markdown",
      "metadata": {
        "id": "bzljhyTQEZds",
        "colab_type": "text"
      },
      "source": [
        "## Install Sentence Transformer Library"
      ]
    },
    {
      "cell_type": "code",
      "metadata": {
        "id": "AmxRYxNDvn6y",
        "colab_type": "code",
        "colab": {
          "base_uri": "https://localhost:8080/",
          "height": 802
        },
        "outputId": "01bebf30-8e45-4872-d38a-7f8b373d4669"
      },
      "source": [
        "# Install the library using pip\n",
        "!pip install sentence-transformers\n",
        "import scipy"
      ],
      "execution_count": 1,
      "outputs": [
        {
          "output_type": "stream",
          "text": [
            "Collecting sentence-transformers\n",
            "\u001b[?25l  Downloading https://files.pythonhosted.org/packages/42/74/49848e9bb64482a7e5f475cc66da5de759077817ede36f8812060ebcaba6/sentence-transformers-0.3.6.tar.gz (62kB)\n",
            "\u001b[K     |████████████████████████████████| 71kB 2.4MB/s \n",
            "\u001b[?25hCollecting transformers<3.2.0,>=3.1.0\n",
            "\u001b[?25l  Downloading https://files.pythonhosted.org/packages/ae/05/c8c55b600308dc04e95100dc8ad8a244dd800fe75dfafcf1d6348c6f6209/transformers-3.1.0-py3-none-any.whl (884kB)\n",
            "\u001b[K     |████████████████████████████████| 890kB 5.6MB/s \n",
            "\u001b[?25hRequirement already satisfied: tqdm in /usr/local/lib/python3.6/dist-packages (from sentence-transformers) (4.41.1)\n",
            "Requirement already satisfied: torch>=1.2.0 in /usr/local/lib/python3.6/dist-packages (from sentence-transformers) (1.6.0+cu101)\n",
            "Requirement already satisfied: numpy in /usr/local/lib/python3.6/dist-packages (from sentence-transformers) (1.18.5)\n",
            "Requirement already satisfied: scikit-learn in /usr/local/lib/python3.6/dist-packages (from sentence-transformers) (0.22.2.post1)\n",
            "Requirement already satisfied: scipy in /usr/local/lib/python3.6/dist-packages (from sentence-transformers) (1.4.1)\n",
            "Requirement already satisfied: nltk in /usr/local/lib/python3.6/dist-packages (from sentence-transformers) (3.2.5)\n",
            "Requirement already satisfied: packaging in /usr/local/lib/python3.6/dist-packages (from transformers<3.2.0,>=3.1.0->sentence-transformers) (20.4)\n",
            "Requirement already satisfied: filelock in /usr/local/lib/python3.6/dist-packages (from transformers<3.2.0,>=3.1.0->sentence-transformers) (3.0.12)\n",
            "Requirement already satisfied: requests in /usr/local/lib/python3.6/dist-packages (from transformers<3.2.0,>=3.1.0->sentence-transformers) (2.23.0)\n",
            "Collecting sacremoses\n",
            "\u001b[?25l  Downloading https://files.pythonhosted.org/packages/7d/34/09d19aff26edcc8eb2a01bed8e98f13a1537005d31e95233fd48216eed10/sacremoses-0.0.43.tar.gz (883kB)\n",
            "\u001b[K     |████████████████████████████████| 890kB 10.4MB/s \n",
            "\u001b[?25hRequirement already satisfied: dataclasses; python_version < \"3.7\" in /usr/local/lib/python3.6/dist-packages (from transformers<3.2.0,>=3.1.0->sentence-transformers) (0.7)\n",
            "Collecting sentencepiece!=0.1.92\n",
            "\u001b[?25l  Downloading https://files.pythonhosted.org/packages/d4/a4/d0a884c4300004a78cca907a6ff9a5e9fe4f090f5d95ab341c53d28cbc58/sentencepiece-0.1.91-cp36-cp36m-manylinux1_x86_64.whl (1.1MB)\n",
            "\u001b[K     |████████████████████████████████| 1.1MB 16.1MB/s \n",
            "\u001b[?25hRequirement already satisfied: regex!=2019.12.17 in /usr/local/lib/python3.6/dist-packages (from transformers<3.2.0,>=3.1.0->sentence-transformers) (2019.12.20)\n",
            "Collecting tokenizers==0.8.1.rc2\n",
            "\u001b[?25l  Downloading https://files.pythonhosted.org/packages/80/83/8b9fccb9e48eeb575ee19179e2bdde0ee9a1904f97de5f02d19016b8804f/tokenizers-0.8.1rc2-cp36-cp36m-manylinux1_x86_64.whl (3.0MB)\n",
            "\u001b[K     |████████████████████████████████| 3.0MB 28.8MB/s \n",
            "\u001b[?25hRequirement already satisfied: future in /usr/local/lib/python3.6/dist-packages (from torch>=1.2.0->sentence-transformers) (0.16.0)\n",
            "Requirement already satisfied: joblib>=0.11 in /usr/local/lib/python3.6/dist-packages (from scikit-learn->sentence-transformers) (0.16.0)\n",
            "Requirement already satisfied: six in /usr/local/lib/python3.6/dist-packages (from nltk->sentence-transformers) (1.15.0)\n",
            "Requirement already satisfied: pyparsing>=2.0.2 in /usr/local/lib/python3.6/dist-packages (from packaging->transformers<3.2.0,>=3.1.0->sentence-transformers) (2.4.7)\n",
            "Requirement already satisfied: certifi>=2017.4.17 in /usr/local/lib/python3.6/dist-packages (from requests->transformers<3.2.0,>=3.1.0->sentence-transformers) (2020.6.20)\n",
            "Requirement already satisfied: urllib3!=1.25.0,!=1.25.1,<1.26,>=1.21.1 in /usr/local/lib/python3.6/dist-packages (from requests->transformers<3.2.0,>=3.1.0->sentence-transformers) (1.24.3)\n",
            "Requirement already satisfied: idna<3,>=2.5 in /usr/local/lib/python3.6/dist-packages (from requests->transformers<3.2.0,>=3.1.0->sentence-transformers) (2.10)\n",
            "Requirement already satisfied: chardet<4,>=3.0.2 in /usr/local/lib/python3.6/dist-packages (from requests->transformers<3.2.0,>=3.1.0->sentence-transformers) (3.0.4)\n",
            "Requirement already satisfied: click in /usr/local/lib/python3.6/dist-packages (from sacremoses->transformers<3.2.0,>=3.1.0->sentence-transformers) (7.1.2)\n",
            "Building wheels for collected packages: sentence-transformers, sacremoses\n",
            "  Building wheel for sentence-transformers (setup.py) ... \u001b[?25l\u001b[?25hdone\n",
            "  Created wheel for sentence-transformers: filename=sentence_transformers-0.3.6-cp36-none-any.whl size=101182 sha256=0d7c9a089d77d0fb7afe3601199cff416f1fb8295444907d70a3a3d6cc7f8b73\n",
            "  Stored in directory: /root/.cache/pip/wheels/6f/3f/75/c0c4b3ef5dfbf8806d37b8dc661861772aba2f7aa419c85a9b\n",
            "  Building wheel for sacremoses (setup.py) ... \u001b[?25l\u001b[?25hdone\n",
            "  Created wheel for sacremoses: filename=sacremoses-0.0.43-cp36-none-any.whl size=893257 sha256=44b5234162a066805d6eb9e7ff196eff858609baf3ee3e233a9ba1331a9f5068\n",
            "  Stored in directory: /root/.cache/pip/wheels/29/3c/fd/7ce5c3f0666dab31a50123635e6fb5e19ceb42ce38d4e58f45\n",
            "Successfully built sentence-transformers sacremoses\n",
            "Installing collected packages: sacremoses, sentencepiece, tokenizers, transformers, sentence-transformers\n",
            "Successfully installed sacremoses-0.0.43 sentence-transformers-0.3.6 sentencepiece-0.1.91 tokenizers-0.8.1rc2 transformers-3.1.0\n"
          ],
          "name": "stdout"
        }
      ]
    },
    {
      "cell_type": "markdown",
      "metadata": {
        "id": "eIAKz6KVEndZ",
        "colab_type": "text"
      },
      "source": [
        "## Load the BERT Model"
      ]
    },
    {
      "cell_type": "code",
      "metadata": {
        "id": "5IO_j2Ofv5pq",
        "colab_type": "code",
        "colab": {
          "base_uri": "https://localhost:8080/",
          "height": 34
        },
        "outputId": "dd4a6a6c-f740-480d-8244-a765090d1b2c"
      },
      "source": [
        "from sentence_transformers import SentenceTransformer\n",
        "\n",
        "# Load the BERT model. Various models trained on Natural Language Inference (NLI) https://github.com/UKPLab/sentence-transformers/blob/master/docs/pretrained-models/nli-models.md and \n",
        "# Semantic Textual Similarity are available https://github.com/UKPLab/sentence-transformers/blob/master/docs/pretrained-models/sts-models.md\n",
        "\n",
        "model = SentenceTransformer('bert-base-nli-mean-tokens')"
      ],
      "execution_count": 2,
      "outputs": [
        {
          "output_type": "stream",
          "text": [
            "100%|██████████| 405M/405M [00:26<00:00, 15.2MB/s]\n"
          ],
          "name": "stderr"
        }
      ]
    },
    {
      "cell_type": "markdown",
      "metadata": {
        "id": "I7_Ib3ITEwgO",
        "colab_type": "text"
      },
      "source": [
        "## Setup a Corpus"
      ]
    },
    {
      "cell_type": "code",
      "metadata": {
        "id": "rEa50nefv7HY",
        "colab_type": "code",
        "colab": {
          "base_uri": "https://localhost:8080/",
          "height": 1000
        },
        "outputId": "08d7740f-51d8-4c52-ce42-227bb2ce0dcf"
      },
      "source": [
        "# A corpus is a list with documents split by sentences.\n",
        "\n",
        "sentences = ['Absence of sanity', \n",
        "             'Lack of saneness',\n",
        "             'A man is eating food.',\n",
        "             'A man is eating a piece of bread.',\n",
        "             'The girl is carrying a baby.',\n",
        "             'A man is riding a horse.',\n",
        "             'A woman is playing violin.',\n",
        "             'Two men pushed carts through the woods.',\n",
        "             'A man is riding a white horse on an enclosed ground.',\n",
        "             'A monkey is playing drums.',\n",
        "             'A cheetah is running behind its prey.']\n",
        "\n",
        "# Each sentence is encoded as a 1-D vector with 78 columns\n",
        "sentence_embeddings = model.encode(sentences)\n",
        "\n",
        "print('Sample BERT embedding vector - length', len(sentence_embeddings[0]))\n",
        "\n",
        "print('Sample BERT embedding vector - note includes negative values', sentence_embeddings[0])"
      ],
      "execution_count": 3,
      "outputs": [
        {
          "output_type": "stream",
          "text": [
            "Sample BERT embedding vector - length 768\n",
            "Sample BERT embedding vector - note includes negative values [ 2.95403242e-01  2.91811079e-01  2.16480112e+00  2.20419809e-01\n",
            " -1.30865518e-02  1.01950383e+00  1.51298177e+00  2.34132439e-01\n",
            "  2.73057789e-01  1.35122925e-01 -1.11313355e+00 -1.25884682e-01\n",
            "  1.45378485e-01  9.77708459e-01  1.39352262e+00  4.57705110e-01\n",
            " -5.82131505e-01 -7.24941075e-01 -3.61734331e-01 -2.27515176e-01\n",
            "  1.66629944e-02  2.04862192e-01  6.55133128e-01 -1.29376411e+00\n",
            " -7.26099372e-01 -1.91135868e-01 -3.07211041e-01 -1.30278647e+00\n",
            " -1.42963886e+00  5.67481807e-03  3.54811668e-01  4.83712912e-01\n",
            "  6.65387988e-01  5.33848464e-01  6.40496612e-01  5.90408802e-01\n",
            "  7.83848837e-02 -1.07759190e+00 -1.24676600e-01 -3.98406357e-01\n",
            "  7.36314595e-01  5.28293073e-01  5.63290596e-01  4.14546251e-01\n",
            "  4.49179262e-01 -9.58783254e-02  1.45424604e+00 -2.69144833e-01\n",
            " -2.44059727e-01 -1.10387063e+00 -2.00923771e-01 -2.17425334e-03\n",
            "  1.83387983e+00  1.06518483e+00 -5.11946082e-01 -1.11248517e+00\n",
            "  5.59790254e-01 -5.89609027e-01  1.07621956e+00  7.49265373e-01\n",
            "  4.32666957e-01  1.76307276e-01 -1.72127523e-02  1.19170450e-01\n",
            " -8.37448239e-01  1.88446090e-01 -7.46750552e-03  1.70311015e-02\n",
            " -4.29176003e-01 -5.72340012e-01  6.22608066e-01 -3.38023782e-01\n",
            "  1.03712574e-01  2.42106825e-01 -9.82075334e-01 -2.63344139e-01\n",
            "  4.15540993e-01  2.79155672e-01 -1.03487536e-01  7.32837319e-01\n",
            "  2.78023899e-01  7.52160192e-01  8.08235347e-01 -4.87504065e-01\n",
            " -7.64051378e-01 -7.08028525e-02  5.39888263e-01  2.24032834e-01\n",
            " -1.66969907e+00 -2.01101989e-01  2.13853717e-01  1.08926654e+00\n",
            "  5.79519808e-01 -3.32589388e-01 -9.75302815e-01  2.37980243e-02\n",
            " -1.68780059e-01  2.63478965e-01  1.64727896e-01  2.03110844e-01\n",
            "  8.12701602e-03  3.75386715e-01  4.53516543e-01  4.21480723e-02\n",
            "  4.72984701e-01  3.53581429e-01 -1.55092523e-01  3.71253341e-01\n",
            "  3.54824603e-01  5.11555076e-02 -9.36767697e-01  1.42013240e+00\n",
            "  7.63064504e-01 -8.58592033e-01 -5.74659944e-01  2.43794508e-02\n",
            " -1.39292669e+00  3.14163029e-01 -2.08898298e-02  4.01286513e-01\n",
            "  8.56514454e-01  2.12013632e-01  1.93166763e-01 -8.65447670e-02\n",
            "  3.66492867e-01 -5.34847438e-01  9.08363938e-01 -1.47460207e-01\n",
            " -4.34119403e-01  1.38952360e-01 -2.85755903e-01  8.91503990e-01\n",
            " -9.49378967e-01 -6.12358823e-02 -1.63512871e-01  2.15332452e-02\n",
            "  9.33666974e-02 -1.83846235e-01 -7.05079436e-02 -9.50030014e-02\n",
            " -7.78035462e-01  5.08425355e-01 -2.38958195e-01  1.18629336e-01\n",
            " -2.22939536e-01 -4.55788702e-01  7.77876019e-01  5.58181882e-01\n",
            " -6.46435857e-01 -3.76423836e-01 -9.94759917e-01 -2.24633053e-01\n",
            "  2.56237388e-01  3.92683417e-01 -3.80205810e-01 -5.66550076e-01\n",
            "  1.06151187e+00  6.39037132e-01  2.45125741e-01 -2.10276514e-01\n",
            " -2.03608721e-01  5.58223605e-01  5.87126315e-02  4.09846961e-01\n",
            "  9.85411331e-02  5.68385050e-02 -3.91428649e-01  2.61983514e-01\n",
            "  1.85061768e-01 -7.71071732e-01  6.81888938e-01 -6.14751935e-01\n",
            " -9.09989834e-01 -5.37011266e-01 -2.67421335e-01  6.41148314e-02\n",
            " -1.47129089e-01  8.36788297e-01  2.73965299e-01  2.99047470e-01\n",
            "  1.75318554e-01 -8.45175162e-02  1.32096410e+00 -1.32269955e+00\n",
            " -8.96274567e-01 -7.21393645e-01  9.03012902e-02 -5.28525114e-01\n",
            " -5.90584353e-02 -1.73461661e-01 -1.08447242e+00 -9.68358636e-01\n",
            "  7.07607388e-01 -1.08554244e+00  7.90785700e-02 -1.23736456e-01\n",
            "  1.04828037e-01 -4.38559711e-01 -9.64857489e-02  1.21586844e-01\n",
            "  7.08319008e-01 -7.40592003e-01 -6.13736510e-02  5.97689509e-01\n",
            "  5.36595166e-01  9.54431057e-01  5.82721420e-02 -7.02313840e-01\n",
            " -5.21191597e-01 -5.31055272e-01 -6.87113225e-01 -2.28840038e-01\n",
            " -1.25094861e-01  3.82895321e-01  9.40875053e-01 -1.53619993e+00\n",
            "  3.08551490e-01 -1.07018912e+00 -9.22981054e-02  1.83376819e-01\n",
            "  2.36132950e-01 -9.44777846e-01  3.63419473e-01  1.02014735e-01\n",
            " -2.61932611e-01  1.31475377e+00 -8.66959542e-02  4.19597954e-01\n",
            " -5.64484954e-01 -2.40892917e-01  9.56284851e-02  2.88403124e-01\n",
            " -1.26559639e+00  9.68212709e-02 -6.86096311e-01 -9.73237216e-01\n",
            "  4.98170465e-01 -6.72291875e-01  6.18023694e-01 -2.36298680e-01\n",
            " -1.19644729e-02  2.23921493e-01  1.29233623e+00  9.04313684e-01\n",
            " -6.94557309e-01  2.12914348e-01  1.41126737e-01 -1.09073699e+00\n",
            " -2.61027277e-01  3.72416079e-01  5.65628290e-01 -7.63028264e-01\n",
            "  2.54305631e-01  2.96842217e-01  6.39282048e-01 -3.68397385e-01\n",
            " -1.50474757e-01 -2.06996292e-01  4.89719212e-01 -1.07649362e+00\n",
            " -4.69321907e-01  5.64345956e-01 -8.54325175e-01  2.01306731e-01\n",
            " -3.64126384e-01 -4.83238369e-01 -2.99138546e-01 -2.37891197e-01\n",
            " -7.14594603e-01  3.88846956e-02  2.88149059e-01 -8.43380928e-01\n",
            " -1.32528871e-01  3.20763767e-01 -5.64771354e-01 -6.50783658e-01\n",
            "  1.23112631e+00 -3.79267961e-01 -5.36719441e-01 -1.18963078e-01\n",
            "  5.57513177e-01  7.38234341e-01 -1.65188789e+00  4.81852770e-01\n",
            " -9.48715031e-01  9.54266250e-01  6.12537503e-01  2.52186179e-01\n",
            " -2.26502508e-01 -1.06310427e-01 -6.21923089e-01  7.16752350e-01\n",
            " -3.86202365e-01 -7.54139543e-01  5.86001515e-01 -2.63744622e-01\n",
            "  2.03416348e-01 -5.31250477e-01 -9.58163559e-01  7.24046826e-01\n",
            " -6.24141812e-01 -1.32547334e-01 -7.14519620e-01  2.18565613e-01\n",
            " -6.77283764e-01 -1.44099802e-01 -3.61370951e-01  8.55807662e-01\n",
            "  4.30025250e-01  5.20425856e-01 -1.25135827e+00  8.63298774e-03\n",
            " -8.13418090e-01 -1.89724267e-01  6.97539330e-01 -2.71261454e-01\n",
            " -9.60209548e-01 -5.67387462e-01 -1.97102457e-01 -8.45596969e-01\n",
            "  4.09596205e-01  4.65882301e-01  1.00615777e-01  1.79212138e-01\n",
            "  3.18223089e-01 -1.94156930e-01 -2.31447928e-02  5.31907499e-01\n",
            "  2.07857043e-01 -1.38748854e-01 -1.25763580e-01 -1.67028809e+00\n",
            "  7.72696137e-02  3.29649746e-01  9.59620833e-01  9.71129417e-01\n",
            " -8.59887719e-01 -7.97947526e-01 -4.50175583e-01  6.09350324e-01\n",
            " -9.92597863e-02 -1.26160538e+00 -4.80853170e-01 -4.37260680e-02\n",
            "  7.61089683e-01 -4.90454525e-01 -1.16635036e+00 -1.26680601e+00\n",
            "  4.23250049e-01 -3.28321666e-01  1.13249123e-01  1.19094658e+00\n",
            " -4.76775646e-01  2.77292818e-01 -6.62052751e-01 -6.26967728e-01\n",
            " -3.28042865e-01  4.62100208e-01  4.22711559e-02  1.11229597e-02\n",
            "  3.49018157e-01  3.41067016e-01 -2.20341474e-01 -8.18508148e-01\n",
            "  6.06628358e-01 -6.28642201e-01  2.82574475e-01  4.81880993e-01\n",
            "  1.42555869e+00 -1.52629090e-03 -5.17759264e-01 -2.46808473e-02\n",
            " -5.39777994e-01  2.85306185e-01 -2.21777007e-01 -1.85012534e-01\n",
            "  3.11429560e-01 -2.07644373e-01 -2.50214458e-01 -9.53149140e-01\n",
            "  4.12619501e-01  3.92301269e-02  1.41120300e-01 -3.55186880e-01\n",
            "  1.18068099e+00 -3.14618438e-01  4.79556888e-01 -4.70074028e-01\n",
            "  1.77134871e-01  6.75846934e-01  9.84488130e-01  2.68136859e-01\n",
            " -7.01524084e-03 -2.85394251e-01 -1.52261302e-01 -1.11626422e+00\n",
            "  1.02338865e-01  5.77064812e-01  3.41381669e-01  4.19948667e-01\n",
            "  4.03285265e-01  2.95106053e-01  9.24367726e-01  1.26249254e+00\n",
            "  1.20447135e+00  9.47556853e-01  4.87712845e-02  4.61912960e-01\n",
            " -8.18414867e-01  4.46733773e-01  6.60864472e-01  4.44435596e-01\n",
            " -9.46657360e-01  3.16685259e-01 -5.51689088e-01 -1.82610512e-01\n",
            " -1.46253169e-01 -1.01644218e+00  7.33198881e-01  1.08742774e+00\n",
            " -6.23245239e-01 -6.87371612e-01 -1.63677856e-01  2.05873564e-01\n",
            " -1.28051644e-04  1.58518410e+00 -2.15279371e-01 -3.93540204e-01\n",
            " -2.25850016e-01 -4.96896282e-02 -3.16225111e-01 -2.08423492e-02\n",
            " -7.36599743e-01  5.96843243e-01 -6.45120502e-01 -5.47669291e-01\n",
            "  1.46693021e-01 -1.00796354e+00  2.46947736e-01 -1.16965555e-01\n",
            "  1.06088781e+00  1.71404909e-02  1.60031900e-01 -1.61020961e-02\n",
            " -4.65260088e-01 -3.54801893e-01 -7.89501429e-01 -5.38766980e-01\n",
            "  4.41756964e-01 -1.14354864e-01  2.15809420e-01  3.88404161e-01\n",
            " -5.96565127e-01  6.83732390e-01  1.11033058e+00  8.61530185e-01\n",
            " -1.48576736e-01  1.11748528e+00  3.42844546e-01 -8.33450481e-02\n",
            "  3.36359888e-02  3.10089856e-01 -1.54736972e+00 -4.20449257e-01\n",
            "  8.92353505e-02 -1.90214708e-01 -7.60475248e-02 -9.25956249e-01\n",
            " -2.31245995e-01  3.78083885e-01 -9.29461300e-01 -2.05470920e-01\n",
            " -1.10455297e-01  2.51402587e-01  8.28988105e-02  4.65330422e-01\n",
            " -1.59002948e+00  1.67838074e-02 -1.03855692e-01  4.42655414e-01\n",
            "  5.59934974e-01  4.51579660e-01 -7.67550245e-02 -4.73889530e-01\n",
            " -1.16150498e+00  2.94715345e-01  2.40399405e-01  3.64251852e-01\n",
            "  5.29475391e-01  2.42428179e-03  1.62736345e-02 -1.22207507e-01\n",
            " -1.02022302e+00 -1.01030028e+00 -3.02591503e-01 -2.43044302e-01\n",
            " -7.07274973e-01  1.77668467e-01  2.10999399e-01  7.66401231e-01\n",
            "  3.03305000e-01 -9.95252095e-03 -5.04402995e-01 -5.96487641e-01\n",
            "  4.28530365e-01  7.56299868e-02  1.18148148e+00  2.74924990e-02\n",
            "  1.09997880e+00  1.69377729e-01  1.15801252e-01  7.44199634e-01\n",
            " -1.96190491e-01 -5.51070929e-01 -3.15140724e-01 -7.55082607e-01\n",
            " -5.86988866e-01  4.44423854e-01 -3.26272458e-01 -5.73182762e-01\n",
            " -4.43318754e-01  3.59878719e-01 -4.29274663e-02  8.31856430e-01\n",
            "  6.22971833e-01 -2.17173100e-01 -9.20350254e-01  9.19905663e-01\n",
            " -7.29421005e-02  5.15982285e-02 -9.65982676e-02 -1.27199247e-01\n",
            " -3.96581411e-01  4.10286263e-02  2.23799855e-01  2.97161072e-01\n",
            "  2.92265803e-01 -5.09368539e-01 -5.68877101e-01  4.27781403e-01\n",
            "  4.16459501e-01  4.65236753e-01  1.06364715e+00 -6.52427793e-01\n",
            " -8.28918278e-01  3.47215272e-02  3.42104375e-01  1.88819394e-01\n",
            "  5.04421771e-01 -2.34061763e-01  1.80037171e-01  4.29086775e-01\n",
            "  2.30355337e-01 -2.83437133e-01  2.34264806e-01 -5.11488557e-01\n",
            "  4.76538748e-01  1.56475931e-01 -1.47166759e-01 -1.02309203e+00\n",
            " -5.59814572e-01 -3.14807832e-01  1.36169512e-02  2.48336703e-01\n",
            " -5.14447033e-01 -9.95984077e-01  2.44898386e-02 -2.81418860e-02\n",
            "  2.93588936e-01 -6.17681146e-01  2.71538436e-01 -6.88657165e-01\n",
            "  5.12018085e-01 -5.74781597e-02 -2.89483637e-01 -2.38753244e-01\n",
            "  5.62780976e-01 -1.02241445e+00 -6.51533961e-01  2.27025658e-01\n",
            "  3.18955362e-01  8.17962885e-02 -5.93578629e-02 -1.17566609e+00\n",
            " -4.10223901e-02 -2.96684802e-01  5.82194030e-01 -7.70743310e-01\n",
            " -7.15863556e-02  4.76809025e-01  3.29380155e-01 -5.99578738e-01\n",
            "  5.35217952e-03 -3.21955264e-01  1.17017007e+00 -1.79934964e-01\n",
            " -5.21227539e-01 -2.49459699e-01  4.84305859e-01 -2.64465034e-01\n",
            " -2.03607768e-01  3.04992646e-01 -1.25714993e+00  7.55808949e-01\n",
            " -6.03417277e-01  8.71126354e-02 -1.06221035e-01 -5.40654778e-01\n",
            " -5.11184096e-01 -4.32206690e-02  6.84743106e-01 -9.05072510e-01\n",
            "  4.51822951e-02 -2.63025701e-01 -7.73667455e-01 -7.93841660e-01\n",
            " -3.95873159e-01  2.98923403e-02  1.12445617e+00  8.02643001e-01\n",
            " -3.85727048e-01 -7.29575634e-01  6.11615479e-01 -1.75381333e-01\n",
            " -1.70759395e-01 -1.05162597e+00  1.05051005e+00 -6.94110513e-01\n",
            "  6.68202877e-01 -1.40023589e-01  4.58646715e-01  5.88179827e-02\n",
            "  3.39239061e-01  2.20731691e-01 -4.91490781e-01  8.13486099e-01\n",
            "  1.32252085e+00  1.83042929e-01  2.82914042e-01 -4.13827837e-01\n",
            "  2.75093377e-01 -1.03680038e+00  4.73541915e-01  6.67740226e-01\n",
            " -7.56592602e-02  9.01939869e-02 -8.08835387e-01 -1.11946957e-02\n",
            " -4.65079173e-02  7.15482116e-01 -1.27312899e-01 -6.92540050e-01\n",
            " -7.13322222e-01  2.09888577e-01 -3.56735468e-01 -2.66319275e-01\n",
            " -4.60458189e-01  7.38249999e-03 -8.48066628e-01 -8.13464999e-01\n",
            "  2.13946372e-01 -5.31533480e-01 -8.76829475e-02  3.71387064e-01\n",
            "  4.14128780e-01  8.61194134e-01  8.82488117e-02  3.36407721e-01\n",
            "  8.24470371e-02  1.00937831e+00  1.82786450e-01  4.32671160e-02\n",
            "  1.73484609e-01 -1.22647023e+00 -1.27435878e-01 -7.31792569e-01\n",
            "  9.08650279e-01 -8.02065194e-01  2.60243267e-01  8.27426910e-02\n",
            "  1.52959853e-01  1.81249738e-01 -7.75715828e-01  3.96855772e-01\n",
            "  6.91959560e-01 -2.00028613e-01 -1.84013501e-01  7.82087892e-02\n",
            " -4.08993483e-01 -3.83005552e-02  8.61752987e-01 -2.74388343e-01\n",
            " -9.74844769e-02 -1.02602732e+00 -1.26833394e-01  1.11962497e+00\n",
            "  6.53883994e-01  1.42315000e-01 -4.75913525e-01 -3.21265236e-02\n",
            " -2.65989184e-01 -1.16977848e-01 -5.93443036e-01  6.56192303e-01\n",
            " -5.73521256e-01 -7.07489312e-01 -7.29676843e-01  6.20058179e-03\n",
            "  6.79842830e-01  4.15460885e-01 -3.41879755e-01  2.28170443e+00\n",
            " -1.02978492e+00  4.97357756e-01 -4.68666494e-01  1.19645059e+00\n",
            " -6.38581872e-01 -1.35883614e-01 -7.98878849e-01 -5.45745254e-01\n",
            " -4.36387539e-01 -4.08294976e-01 -2.27469116e-01 -1.78951979e-01\n",
            "  5.60197607e-02  2.35111907e-01 -8.29315484e-01  1.66120380e-02\n",
            " -8.07581902e-01 -6.34335160e-01  3.33200127e-01  2.99568325e-01\n",
            " -8.49243045e-01  5.52446768e-02  8.02987278e-01  4.63941157e-01\n",
            "  6.54758334e-01 -5.37106418e-04 -2.04843566e-01  9.76368308e-01\n",
            " -3.53016198e-01  9.11225796e-01  7.22659111e-01 -3.19765687e-01\n",
            "  2.27475911e-01 -2.76821434e-01  4.26936686e-01  3.22493881e-01\n",
            " -4.22100157e-01  2.96952337e-01  6.81850374e-01  1.47002399e+00\n",
            " -2.75380351e-02 -7.22703457e-01  3.05488762e-02 -5.42972162e-02\n",
            " -5.06122410e-01  4.57350910e-02  8.26341063e-02  4.99086142e-01\n",
            "  9.00193095e-01 -8.83195221e-01 -9.96072114e-01 -2.98155159e-01\n",
            " -4.14106429e-01 -5.26974380e-01 -5.91103256e-01 -2.92363495e-01]\n"
          ],
          "name": "stdout"
        }
      ]
    },
    {
      "cell_type": "markdown",
      "metadata": {
        "id": "QLZaLMDuGhEh",
        "colab_type": "text"
      },
      "source": [
        "## Perform Semantic Search"
      ]
    },
    {
      "cell_type": "code",
      "metadata": {
        "id": "D6wkgQmywt0k",
        "colab_type": "code",
        "colab": {
          "base_uri": "https://localhost:8080/",
          "height": 221
        },
        "outputId": "1970e4a0-3e5a-4ce2-d605-c6e742a74b01"
      },
      "source": [
        "#@title Sematic Search Form\n",
        "\n",
        "# code adapted from https://github.com/UKPLab/sentence-transformers/blob/master/examples/application_semantic_search.py\n",
        "\n",
        "query = 'Nobody has sane thoughts' #@param {type: 'string'}\n",
        "\n",
        "queries = [query]\n",
        "query_embeddings = model.encode(queries)\n",
        "\n",
        "# Find the closest 3 sentences of the corpus for each query sentence based on cosine similarity\n",
        "number_top_matches = 3 #@param {type: \"number\"}\n",
        "\n",
        "print(\"Semantic Search Results\")\n",
        "\n",
        "for query, query_embedding in zip(queries, query_embeddings):\n",
        "    distances = scipy.spatial.distance.cdist([query_embedding], sentence_embeddings, \"cosine\")[0]\n",
        "\n",
        "    results = zip(range(len(distances)), distances)\n",
        "    results = sorted(results, key=lambda x: x[1])\n",
        "\n",
        "    print(\"\\n\\n======================\\n\\n\")\n",
        "    print(\"Query:\", query)\n",
        "    print(\"\\nTop 5 most similar sentences in corpus:\")\n",
        "\n",
        "    for idx, distance in results[0:number_top_matches]:\n",
        "        print(sentences[idx].strip(), \"(Cosine Score: %.4f)\" % (1-distance))"
      ],
      "execution_count": 4,
      "outputs": [
        {
          "output_type": "stream",
          "text": [
            "Semantic Search Results\n",
            "\n",
            "\n",
            "======================\n",
            "\n",
            "\n",
            "Query: Nobody has sane thoughts\n",
            "\n",
            "Top 5 most similar sentences in corpus:\n",
            "Lack of saneness (Cosine Score: 0.8958)\n",
            "Absence of sanity (Cosine Score: 0.8744)\n",
            "A man is riding a horse. (Cosine Score: 0.1705)\n"
          ],
          "name": "stdout"
        }
      ]
    }
  ]
}