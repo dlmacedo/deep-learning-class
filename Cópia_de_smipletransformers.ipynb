{
  "nbformat": 4,
  "nbformat_minor": 0,
  "metadata": {
    "colab": {
      "name": "Cópia de smipletransformers",
      "provenance": [],
      "collapsed_sections": [],
      "include_colab_link": true
    },
    "kernelspec": {
      "name": "python3",
      "display_name": "Python 3"
    },
    "accelerator": "GPU"
  },
  "cells": [
    {
      "cell_type": "markdown",
      "metadata": {
        "id": "view-in-github",
        "colab_type": "text"
      },
      "source": [
        "<a href=\"https://colab.research.google.com/github/dlmacedo/deep-learning-class/blob/master/C%C3%B3pia_de_smipletransformers.ipynb\" target=\"_parent\"><img src=\"https://colab.research.google.com/assets/colab-badge.svg\" alt=\"Open In Colab\"/></a>"
      ]
    },
    {
      "cell_type": "markdown",
      "metadata": {
        "id": "MglALpVszasJ",
        "colab_type": "text"
      },
      "source": [
        "# Introduction to simpleTransformers\n",
        "\n",
        "[wandb live dashboard---> ](https://app.wandb.ai/cayush/simpletransformers/reports/simpleTransformer--Vmlldzo5MTgzNw/edit)"
      ]
    },
    {
      "cell_type": "code",
      "metadata": {
        "id": "qa-2VufHqeu8",
        "colab_type": "code",
        "colab": {}
      },
      "source": [
        "!pip install wandb\n"
      ],
      "execution_count": null,
      "outputs": []
    },
    {
      "cell_type": "markdown",
      "metadata": {
        "id": "T3GylbYPgi2T",
        "colab_type": "text"
      },
      "source": [
        "**MultiLabel Classification**"
      ]
    },
    {
      "cell_type": "markdown",
      "metadata": {
        "id": "UkPIWAyAJzI8",
        "colab_type": "text"
      },
      "source": [
        "Please follow the steps below to download and use kaggle data within Google Colab:\n",
        "\n",
        "1. Go to your account, Scroll to API section and Click Expire API Token to remove previous tokens\n",
        "\n",
        "2. Click on Create New API Token - It will download kaggle.json file on your machine.\n",
        "\n",
        "3. upload that file on the colab runtime and execute the cell.\n",
        "\n",
        "\n"
      ]
    },
    {
      "cell_type": "code",
      "metadata": {
        "id": "f-oasGjiigMY",
        "colab_type": "code",
        "colab": {}
      },
      "source": [
        "!mkdir -p ~/.kaggle\n",
        "!cp kaggle.json ~/.kaggle/"
      ],
      "execution_count": null,
      "outputs": []
    },
    {
      "cell_type": "code",
      "metadata": {
        "id": "1B4HNBVpl0Yv",
        "colab_type": "code",
        "colab": {}
      },
      "source": [
        "\n",
        "!pip install kaggle==1.5.6\n"
      ],
      "execution_count": null,
      "outputs": []
    },
    {
      "cell_type": "code",
      "metadata": {
        "id": "O89kQMfSlSFn",
        "colab_type": "code",
        "colab": {}
      },
      "source": [
        "!kaggle config set -n path -v /content\n"
      ],
      "execution_count": null,
      "outputs": []
    },
    {
      "cell_type": "code",
      "metadata": {
        "id": "URgl7lpfi-AC",
        "colab_type": "code",
        "colab": {}
      },
      "source": [
        "!kaggle competitions download -c jigsaw-toxic-comment-classification-challenge "
      ],
      "execution_count": null,
      "outputs": []
    },
    {
      "cell_type": "code",
      "metadata": {
        "id": "VwR27suojkQM",
        "colab_type": "code",
        "colab": {}
      },
      "source": [
        "!unzip train.csv.zip"
      ],
      "execution_count": null,
      "outputs": []
    },
    {
      "cell_type": "code",
      "metadata": {
        "id": "Jqie_q8Egvlr",
        "colab_type": "code",
        "colab": {}
      },
      "source": [
        "!pip install transformers\n",
        "!pip install seqeval\n",
        "!pip install tensorboardx\n",
        "!pip install simpletransformers\n"
      ],
      "execution_count": null,
      "outputs": []
    },
    {
      "cell_type": "code",
      "metadata": {
        "id": "KD6Uv--1rAsz",
        "colab_type": "code",
        "colab": {
          "base_uri": "https://localhost:8080/",
          "height": 50
        },
        "outputId": "131f2a28-e29e-428c-8ab7-03cd3485539e"
      },
      "source": [
        "import wandb\n",
        "sweep_config = {\n",
        "    'method': 'random', #grid, random\n",
        "    'metric': {\n",
        "      'name': 'eval_loss',\n",
        "      'goal': 'minimize'   \n",
        "    },\n",
        "    'parameters': {\n",
        "   \n",
        "        'learning_rate': {\n",
        "            'values': [ 5e-5, 3e-5, 2e-5]\n",
        "        },\n",
        "\n",
        "    }\n",
        "}\n",
        "sweep_defaults = {\n",
        "            'learning_rate': 5e-5,\n",
        "       \n",
        "        'epochs':2\n",
        "}\n",
        "\n",
        "sweep_id = wandb.sweep(sweep_config,project=\"uncategorized\")\n"
      ],
      "execution_count": null,
      "outputs": [
        {
          "output_type": "stream",
          "text": [
            "Create sweep with ID: n2mybcri\n",
            "Sweep URL: https://app.wandb.ai/cayush/uncategorized/sweeps/n2mybcri\n"
          ],
          "name": "stdout"
        }
      ]
    },
    {
      "cell_type": "code",
      "metadata": {
        "id": "wqa7FBAJj-Lx",
        "colab_type": "code",
        "colab": {}
      },
      "source": [
        "import pandas as pd\n",
        "df = pd.read_csv('train.csv')\n",
        "df = df[:75000]"
      ],
      "execution_count": null,
      "outputs": []
    },
    {
      "cell_type": "code",
      "metadata": {
        "id": "Q-9juK-lugeV",
        "colab_type": "code",
        "colab": {}
      },
      "source": [
        "df['labels'] = list(zip(df.toxic.tolist(), df.severe_toxic.tolist(), df.obscene.tolist(), df.threat.tolist(),  df.insult.tolist(), df.identity_hate.tolist()))\n",
        "df['text'] = df['comment_text'].apply(lambda x: x.replace('\\n', ' '))\n",
        "\n",
        "df.head()"
      ],
      "execution_count": null,
      "outputs": []
    },
    {
      "cell_type": "code",
      "metadata": {
        "id": "ckF6TpjWuqrf",
        "colab_type": "code",
        "colab": {}
      },
      "source": [
        ""
      ],
      "execution_count": null,
      "outputs": []
    },
    {
      "cell_type": "code",
      "metadata": {
        "id": "FUvKUqBwpogm",
        "colab_type": "code",
        "colab": {}
      },
      "source": [
        "from sklearn.model_selection import train_test_split\n",
        "\n",
        "\n",
        "train_df, eval_df = train_test_split(df, test_size=0.2)"
      ],
      "execution_count": null,
      "outputs": []
    },
    {
      "cell_type": "code",
      "metadata": {
        "id": "mFaEPZZygB6J",
        "colab_type": "code",
        "colab": {}
      },
      "source": [
        "from simpletransformers.classification import MultiLabelClassificationModel\n",
        "import pandas as pd\n",
        "\n",
        "def trainMultiLabel():\n",
        "  wandb.init()\n",
        "  print(\"HyperParams=>>\", wandb.config.epochs)\n",
        "  # Create a MultiLabelClassificationModel\n",
        "  model = MultiLabelClassificationModel(\n",
        "      \"distilbert\",\n",
        "      \"distilbert-base-uncased\",\n",
        "      num_labels=6,\n",
        "      args={\"reprocess_input_data\": True, \"overwrite_output_dir\": True, \"num_train_epochs\": wandb.config.epochs,\n",
        "            'learning_rate': wandb.config.learning_rate,\n",
        "                'wandb_project': \"simpletransformers\",    \"fp16\": False,\n",
        "            \"max_seq_length\": 64,\n",
        "\n",
        "            },\n",
        "  )\n",
        "  # You can set class weights by using the optional weight argument\n",
        "  print(train_df.head())\n",
        "\n",
        "  # Train the model\n",
        "  model.train_model(train_df)\n",
        "\n",
        "  # Evaluate the model\n",
        "  result, model_outputs, wrong_predictions = model.eval_model(eval_df)\n",
        "  print(result)\n",
        "  print(model_outputs)\n"
      ],
      "execution_count": null,
      "outputs": []
    },
    {
      "cell_type": "code",
      "metadata": {
        "id": "eMev97npqztG",
        "colab_type": "code",
        "colab": {}
      },
      "source": [
        "wandb.agent(sweep_id,function=trainMultiLabel)\n"
      ],
      "execution_count": null,
      "outputs": []
    },
    {
      "cell_type": "code",
      "metadata": {
        "id": "n24RtwRkt9of",
        "colab_type": "code",
        "colab": {}
      },
      "source": [
        ""
      ],
      "execution_count": null,
      "outputs": []
    },
    {
      "cell_type": "markdown",
      "metadata": {
        "id": "bFYOZBHC8M87",
        "colab_type": "text"
      },
      "source": [
        "# Named Entity Recognition\n"
      ]
    },
    {
      "cell_type": "code",
      "metadata": {
        "id": "xRWdPylR8Sfv",
        "colab_type": "code",
        "colab": {}
      },
      "source": [
        "!kaggle datasets download -d alaakhaled/conll003-englishversion"
      ],
      "execution_count": null,
      "outputs": []
    },
    {
      "cell_type": "code",
      "metadata": {
        "id": "Sc3e9To08VX6",
        "colab_type": "code",
        "colab": {}
      },
      "source": [
        "!unzip conll003-englishversion.zip"
      ],
      "execution_count": null,
      "outputs": []
    },
    {
      "cell_type": "code",
      "metadata": {
        "id": "PEdumCZv9SQV",
        "colab_type": "code",
        "colab": {}
      },
      "source": [
        "\n",
        "\n",
        "def trainNER():\n",
        "  from simpletransformers.ner import NERModel\n",
        "\n",
        "  wandb.init()\n",
        "  print(\"HyperParam=>>\" , wandb.config.epochs, wandb.config.learning_rate)\n",
        "  # Create a NERModel\n",
        "  model = NERModel('distilbert', 'distilbert-base-cased', \n",
        "                    args={\"reprocess_input_data\": True, \"overwrite_output_dir\": True, \"num_train_epochs\": wandb.config.epochs,\n",
        "              'learning_rate': wandb.config.learning_rate,\n",
        "                  'wandb_project': \"simpletransformers\",    \"fp16\": False,\n",
        "              \"max_seq_length\": 64,\n",
        "\n",
        "              })\n",
        "  model.train_model('train.txt')\n",
        "\n",
        "  # Evaluate the model\n",
        "  result, model_outputs, predictions = model.eval_model('test.txt')\n",
        "\n",
        "  # Check predictions\n",
        "  print(predictions[:5])\n"
      ],
      "execution_count": null,
      "outputs": []
    },
    {
      "cell_type": "code",
      "metadata": {
        "id": "GTptRyLW9xVJ",
        "colab_type": "code",
        "colab": {}
      },
      "source": [
        "wandb.agent(sweep_id,function=trainNER)\n"
      ],
      "execution_count": null,
      "outputs": []
    },
    {
      "cell_type": "code",
      "metadata": {
        "id": "-maJ3V7m-xS9",
        "colab_type": "code",
        "colab": {}
      },
      "source": [
        ""
      ],
      "execution_count": null,
      "outputs": []
    },
    {
      "cell_type": "markdown",
      "metadata": {
        "id": "tDm5QZCwfmB5",
        "colab_type": "text"
      },
      "source": [
        "# Question Answering"
      ]
    },
    {
      "cell_type": "code",
      "metadata": {
        "id": "5wZpgARqfoOK",
        "colab_type": "code",
        "colab": {}
      },
      "source": [
        "!wget https://rajpurkar.github.io/SQuAD-explorer/dataset/train-v2.0.json"
      ],
      "execution_count": null,
      "outputs": []
    },
    {
      "cell_type": "markdown",
      "metadata": {
        "id": "ai26Mjlff4xG",
        "colab_type": "text"
      },
      "source": [
        "If using JSON files, the files should contain a single list of dictionaries. A dictionary represents a single context and its associated questions.\n",
        "Each such dictionary contains two attributes, the \"context\" and \"qas\".\n",
        "\n",
        "* context: The paragraph or text from which the question is asked.\n",
        "* qas: A list of questions and answers.\n",
        "\n",
        "Questions and answers are represented as dictionaries. Each dictionary in qas has the following format.\n",
        "\n",
        "* id: (string) A unique ID for the question. Should be unique across the entire dataset.\n",
        "* question: (string) A question.\n",
        "* is_impossible: (bool) Indicates whether the question can be * answered correctly from the context.\n",
        "* answers: (list) The list of correct answers to the question.\n",
        "\n",
        "A single answer is represented by a dictionary with the following attributes.\n",
        "*answer: (string) The answer to the question. Must be a substring of the context.\n",
        "*answer_start: (int) Starting index of the answer in the context.\n",
        "\n",
        "We can convert the SQuAD data into this format quite easily."
      ]
    },
    {
      "cell_type": "code",
      "metadata": {
        "id": "sbf5tFitgHnd",
        "colab_type": "code",
        "colab": {}
      },
      "source": [
        "import json\n",
        "\n",
        "\n",
        "with open('train-v2.0.json', 'r') as f:\n",
        "    train_data = json.load(f)\n",
        "\n",
        "train_data = [item for topic in train_data['data'] for item in topic['paragraphs'] ]\n"
      ],
      "execution_count": null,
      "outputs": []
    },
    {
      "cell_type": "code",
      "metadata": {
        "id": "pBMS5K_VgLZw",
        "colab_type": "code",
        "colab": {}
      },
      "source": [
        "train_data = train_data[:5000]"
      ],
      "execution_count": null,
      "outputs": []
    },
    {
      "cell_type": "code",
      "metadata": {
        "id": "0On0DU8enEa8",
        "colab_type": "code",
        "colab": {
          "base_uri": "https://localhost:8080/",
          "height": 34
        },
        "outputId": "ef353a63-8839-4d97-b181-4cfd18ab53ac"
      },
      "source": [
        "len(train_data)"
      ],
      "execution_count": null,
      "outputs": [
        {
          "output_type": "execute_result",
          "data": {
            "text/plain": [
              "5000"
            ]
          },
          "metadata": {
            "tags": []
          },
          "execution_count": 22
        }
      ]
    },
    {
      "cell_type": "code",
      "metadata": {
        "id": "SJGxMNOdgQJL",
        "colab_type": "code",
        "colab": {}
      },
      "source": [
        "def trainQA():\n",
        "  from simpletransformers.question_answering import QuestionAnsweringModel\n",
        "  wandb.init()\n",
        "  print(\"HyperParam=>>\" , wandb.config.learning_rate)\n",
        "\n",
        "  train_args = {\n",
        "      'learning_rate': wandb.config.learning_rate,\n",
        "      'num_train_epochs': 2,\n",
        "      'max_seq_length': 128,\n",
        "      'doc_stride': 64,\n",
        "      'overwrite_output_dir': True,\n",
        "      'reprocess_input_data': False,\n",
        "      'train_batch_size': 2,\n",
        "      'fp16': False,\n",
        "      'wandb_project': \"simpletransformers\"\n",
        "  }\n",
        "\n",
        "  model = QuestionAnsweringModel('distilbert', 'distilbert-base-cased', args=train_args)\n",
        "  model.train_model(train_data)\n"
      ],
      "execution_count": null,
      "outputs": []
    },
    {
      "cell_type": "code",
      "metadata": {
        "id": "MLWWQYqNg-BB",
        "colab_type": "code",
        "colab": {}
      },
      "source": [
        "wandb.agent(sweep_id,function=trainQA)\n"
      ],
      "execution_count": null,
      "outputs": []
    },
    {
      "cell_type": "markdown",
      "metadata": {
        "id": "u-ek0dhtz3uI",
        "colab_type": "text"
      },
      "source": [
        "# Language Modelling"
      ]
    },
    {
      "cell_type": "code",
      "metadata": {
        "id": "tb1cAgEbhC_Y",
        "colab_type": "code",
        "colab": {}
      },
      "source": [
        "!wget http://pcai056.informatik.uni-leipzig.de/downloads/corpora/epo_literature_2011_300K.tar.gz\n",
        "!wget http://pcai056.informatik.uni-leipzig.de/downloads/corpora/epo_mixed_2012_300K.tar.gz\n",
        "!wget http://pcai056.informatik.uni-leipzig.de/downloads/corpora/epo_wikipedia_2016_300K.tar.gz"
      ],
      "execution_count": null,
      "outputs": []
    },
    {
      "cell_type": "code",
      "metadata": {
        "id": "riEniccD7lL4",
        "colab_type": "code",
        "colab": {}
      },
      "source": [
        "!tar -xvzf epo_literature_2011_300K.tar.gz\n"
      ],
      "execution_count": null,
      "outputs": []
    },
    {
      "cell_type": "code",
      "metadata": {
        "id": "lXO94NQW8H_S",
        "colab_type": "code",
        "colab": {}
      },
      "source": [
        "!tar -xvzf epo_mixed_2012_300K.tar.gz\n"
      ],
      "execution_count": null,
      "outputs": []
    },
    {
      "cell_type": "code",
      "metadata": {
        "id": "QnKfMo1h8Syh",
        "colab_type": "code",
        "colab": {}
      },
      "source": [
        "!tar -xvzf epo_wikipedia_2016_300K.tar.gz"
      ],
      "execution_count": null,
      "outputs": []
    },
    {
      "cell_type": "code",
      "metadata": {
        "id": "K4S08QPO8YLX",
        "colab_type": "code",
        "colab": {}
      },
      "source": [
        "import pandas as pd\n",
        "from sklearn.model_selection import train_test_split\n",
        "import os\n",
        "\n",
        "\n",
        "all_text = []\n",
        "for fl in os.scandir(\".\"):\n",
        "    if fl.name.endswith(\".txt\") and \"sentences\" in fl.name:\n",
        "\n",
        "        df = pd.read_csv(fl, delimiter=\"\\t\",engine='python' ,header=None, error_bad_lines=False )\n",
        "        df.columns = [\"id\", \"text\"]\n",
        "        texts = df.text.tolist()\n",
        "        texts = [t for t in texts if isinstance(t, str)]\n",
        "        all_text.extend(texts)\n",
        "\n",
        "train, test = train_test_split(all_text, test_size=0.1)\n",
        "\n",
        "with open(\"train.txt\", \"w\") as f:\n",
        "    for line in train:\n",
        "        f.write(line + \"\\n\")\n",
        "\n",
        "with open(\"test.txt\", \"w\") as f:\n",
        "    for line in test:\n",
        "        f.write(line + \"\\n\")"
      ],
      "execution_count": null,
      "outputs": []
    },
    {
      "cell_type": "code",
      "metadata": {
        "id": "L2SCQ1n-9f7l",
        "colab_type": "code",
        "colab": {}
      },
      "source": [
        "def trainLM():\n",
        "  import wandb\n",
        "  wandb.init()\n",
        "  from simpletransformers.language_modeling import LanguageModelingModel\n",
        "  import logging\n",
        "\n",
        "\n",
        "\n",
        "\n",
        "  train_args = {\n",
        "      \"reprocess_input_data\": False,\n",
        "      \"overwrite_output_dir\": True,\n",
        "      \"num_train_epochs\": 2,\n",
        "      \"save_eval_checkpoints\": True,\n",
        "      \"save_model_every_epoch\": False,\n",
        "      \"learning_rate\": 3e-2,\n",
        "      \"warmup_steps\": 10000,\n",
        "      \"train_batch_size\": 64,\n",
        "      \"eval_batch_size\": 128,\n",
        "      \"fp16\": False,\n",
        "      \"gradient_accumulation_steps\": 1,\n",
        "      \"block_size\": 128,\n",
        "      \"max_seq_length\": 128,\n",
        "      \"dataset_type\": \"simple\",\n",
        "      'wandb_project': \"simpletransformers\",\n",
        "      \"wandb_kwargs\": {\"name\": \"LM3e-2\"},\n",
        "      \"logging_steps\": 100,\n",
        "      \"evaluate_during_training\": True,\n",
        "      \"evaluate_during_training_steps\": 50000,\n",
        "      \"evaluate_during_training_verbose\": True,\n",
        "      \"use_cached_eval_features\": True,\n",
        "      \"sliding_window\": True,\n",
        "      \"vocab_size\": 20000,\n",
        "      \"generator_config\": {\n",
        "          \"embedding_size\": 128,\n",
        "          \"hidden_size\": 256,\n",
        "          \"num_hidden_layers\": 3,\n",
        "      },\n",
        "      \"discriminator_config\": {\n",
        "          \"embedding_size\": 128,\n",
        "          \"hidden_size\": 256,\n",
        "      },\n",
        "  }\n",
        "\n",
        "  train_file = \"train.txt\"\n",
        "  test_file = \"test.txt\"\n",
        "\n",
        "  model = LanguageModelingModel(\n",
        "      \"electra\",\n",
        "      None,\n",
        "      args=train_args,\n",
        "      train_files=train_file,\n",
        "  )\n",
        "\n",
        "  model.train_model(\n",
        "      train_file, eval_file=test_file,\n",
        "  )\n",
        "\n"
      ],
      "execution_count": null,
      "outputs": []
    },
    {
      "cell_type": "code",
      "metadata": {
        "id": "pBqpROC0BbD2",
        "colab_type": "code",
        "colab": {}
      },
      "source": [
        "wandb.agent(sweep_id,function=trainLM)\n"
      ],
      "execution_count": null,
      "outputs": []
    },
    {
      "cell_type": "code",
      "metadata": {
        "id": "vM_yx2KdAnWM",
        "colab_type": "code",
        "colab": {}
      },
      "source": [
        ""
      ],
      "execution_count": null,
      "outputs": []
    }
  ]
}